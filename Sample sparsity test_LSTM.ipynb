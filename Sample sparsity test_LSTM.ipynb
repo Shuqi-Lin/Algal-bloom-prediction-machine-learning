{
 "cells": [
  {
   "cell_type": "code",
   "execution_count": 2,
   "id": "spoken-huntington",
   "metadata": {},
   "outputs": [],
   "source": [
    "import os\n",
    "import pandas as pd\n",
    "import numpy as np\n",
    "import seaborn as sns\n",
    "import datetime\n",
    "import random\n",
    "from sklearn.model_selection import RandomizedSearchCV\n",
    "from sklearn.model_selection import cross_val_score\n",
    "from sklearn.ensemble import GradientBoostingRegressor\n",
    "from sklearn.metrics import mean_squared_error\n",
    "from sklearn.metrics import r2_score\n",
    "from sklearn.model_selection import KFold\n",
    "from sklearn.preprocessing import MinMaxScaler\n",
    "from math import sqrt\n",
    "import pickle\n",
    "pd.set_option('display.max_columns', 1000)  # or 1000\n",
    "pd.set_option('display.max_rows', 1000)  # or 1000\n",
    "import shap\n",
    "import time\n",
    "from numpy import concatenate\n",
    "Scaler = MinMaxScaler()"
   ]
  },
  {
   "cell_type": "code",
   "execution_count": 3,
   "id": "based-fisher",
   "metadata": {},
   "outputs": [],
   "source": [
    "from keras.models import Sequential\n",
    "from keras.layers import Dense, LSTM\n",
    "from keras.layers import Dropout"
   ]
  },
  {
   "cell_type": "markdown",
   "id": "convinced-resource",
   "metadata": {},
   "source": [
    "# Specify the path and folder"
   ]
  },
  {
   "cell_type": "code",
   "execution_count": 373,
   "id": "official-crest",
   "metadata": {},
   "outputs": [],
   "source": [
    "infile_path = 'D:\\PDF_Uppsala\\Training dataset\\Process-based model_Jorrit'\n",
    "trainning_folder = 'D:\\PDF_Uppsala\\Training dataset'\n",
    "LSTM_save_folder = 'D:\\\\PDF_Uppsala\\\\Work record\\\\3-Hydrodynamics from PM scenario\\\\Data frequency sensitivity test\\\\LSTM\\\\2-testing leave one year out'"
   ]
  },
  {
   "cell_type": "code",
   "execution_count": 334,
   "id": "residential-witch",
   "metadata": {},
   "outputs": [],
   "source": [
    "# convert series to supervised learning\n",
    "def series_to_supervised(data, hyperparameters, var_name,dropnan=True):\n",
    "    n_vars = 1 if type(data) is list else data.shape[1] # number of variables\n",
    "    df = pd.DataFrame(data)\n",
    "    cols, names = list(), list()\n",
    "    # input sequence (t-n, ... t-1)\n",
    "    for i in range(hyperparameters['time_steps'], 0, -1):\n",
    "        cols.append(df.shift(i))\n",
    "        names += [(var_name[j]+'(t-%d)' % (i)) for j in range(n_vars)]\n",
    "    # forecast sequence (t, t+1, ... t+n)\n",
    "    for i in range(0, hyperparameters['n_out']):\n",
    "        cols.append(df.shift(-i))\n",
    "        if i == 0:\n",
    "            names += [(var_name[j]+'(t)') for j in range(n_vars)]\n",
    "        else:\n",
    "            names += [(var_name[j]+'(t+%d)' % (i)) for j in range(n_vars)]\n",
    "    # put it all together\n",
    "    agg = pd.concat(cols, axis=1)\n",
    "    agg.columns = names\n",
    "    return agg"
   ]
  },
  {
   "cell_type": "code",
   "execution_count": 118,
   "id": "opposite-surgeon",
   "metadata": {},
   "outputs": [],
   "source": [
    "# load dataset\n",
    "def load_dataset(df,var_name):\n",
    "    values = df[var_name].values\n",
    "    return values"
   ]
  },
  {
   "cell_type": "code",
   "execution_count": 354,
   "id": "planned-extent",
   "metadata": {},
   "outputs": [],
   "source": [
    "# reframe dataset\n",
    "def reframe(values,hyperparameters,var_names):\n",
    "    reframed = series_to_supervised(values, hyperparameters,var_names)\n",
    "    reframed = reframed.iloc[hyperparameters['time_steps']:]\n",
    "    drop_col =[]\n",
    "    for i in range(1,hyperparameters['time_steps']+1):\n",
    "        drop_col += [len(var_name)*i-1]\n",
    "    reframed.drop(reframed.iloc[:,drop_col],axis=1,inplace = True)\n",
    "    return reframed"
   ]
  },
  {
   "cell_type": "code",
   "execution_count": 120,
   "id": "cross-brighton",
   "metadata": {},
   "outputs": [],
   "source": [
    "def sparse_dataset(data_X,data_y):\n",
    "    index = []\n",
    "    y = []\n",
    "    for i in range(len(data_y)):\n",
    "        if ~np.isnan(data_y[i]):\n",
    "            index.append(i)\n",
    "            y.append(data_y[i])\n",
    "    X = np.stack(data_X[index,:,:])\n",
    "    y = np.array(y)\n",
    "    return index,X,y"
   ]
  },
  {
   "cell_type": "code",
   "execution_count": 121,
   "id": "reliable-sacrifice",
   "metadata": {},
   "outputs": [],
   "source": [
    "def fit_lstm(train_X,train_y,n_batch,nb_epoch,n_neuros,dropout,verbose):\n",
    "    # design network\n",
    "    model = Sequential()\n",
    "    model.add(LSTM(n_neuros,  return_sequences = True,\n",
    "              input_shape=(train_X.shape[1], train_X.shape[2])))\n",
    "    model.add(Dropout(dropout))\n",
    "    model.add(LSTM(n_neuros, return_sequences = True))\n",
    "    model.add(Dropout(dropout))\n",
    "    model.add(LSTM(n_neuros))\n",
    "    model.add(Dropout(dropout))\n",
    "    model.add(Dense(1))\n",
    "    model.compile(loss='mse', optimizer='adam')\n",
    "    # fit network\n",
    "    model.fit(train_X,train_y,epochs =nb_epoch,batch_size = n_batch,verbose = verbose)\n",
    "    return model"
   ]
  },
  {
   "cell_type": "code",
   "execution_count": 123,
   "id": "heard-tracker",
   "metadata": {},
   "outputs": [],
   "source": [
    "def split_dataset(train,test,time_steps):\n",
    "    # split into input and outputs\n",
    "    train_X, train_y = train[:, :-1], train[:, -1]\n",
    "    test_X, test_y = test[:, :-1], test[:, -1]\n",
    "    # reshape input to be 3D [samples, timesteps, features]\n",
    "    train_X = train_X.reshape((train_X.shape[0], time_steps+1, int(train_X.shape[1]/(time_steps+1))))\n",
    "    test_X = test_X.reshape((test_X.shape[0], time_steps+1, int(test_X.shape[1]/(time_steps+1))))\n",
    "    print(train_X.shape, train_y.shape, test_X.shape, test_y.shape)\n",
    "    print('number of input timesteps: {}'.format(train_X.shape[1]))\n",
    "    print('number of features: {}'.format(train_X.shape[2]))\n",
    "    return train_X, train_y,test_X, test_y"
   ]
  },
  {
   "cell_type": "code",
   "execution_count": 336,
   "id": "nutritional-license",
   "metadata": {},
   "outputs": [],
   "source": [
    "# ensure all data is float\n",
    "def predict_lstm(Nut_memory,test_yr,var_name,nutrient,hyperparameters):\n",
    "    values = load_dataset(Nut_memory[Nut_memory['year']!=test_yr],var_name) #values = values.astype('float32')\n",
    "    # frame as supervised learning\n",
    "    n_var = len(var_name)\n",
    "    reframed = reframe(values,hyperparameters,var_name)\n",
    "    train = reframed.values\n",
    "    values = load_dataset(Nut_memory[Nut_memory['year']==test_yr],var_name) #values = values.astype('float32')\n",
    "    reframed = reframe(values,hyperparameters,var_name)\n",
    "    test = reframed.values\n",
    "    train_X, train_y,test_X, test_y = split_dataset(train,test,hyperparameters['time_steps'])\n",
    "    # fit the lstm model\n",
    "    index,X,y = sparse_dataset(train_X,train_y) # stack the timeseries input together to create a 2D training input X, and a 1D lable y\n",
    "    y_scaled = Scaler.fit_transform(y.reshape(-1,1))\n",
    "    print('number of samples: {}'.format(len(index)))\n",
    "    model = fit_lstm(X,y_scaled,\n",
    "                     hyperparameters['n_batch'],hyperparameters['nb_epoch'],\n",
    "                     hyperparameters['n_neuros'],hyperparameters['dropout'],hyperparameters['verbose'])\n",
    "    yhat = Scaler.inverse_transform(model.predict(test_X,batch_size = hyperparameters['n_batch']))\n",
    "    x = np.empty((hyperparameters['time_steps'],1))\n",
    "    x[:] = np.nan\n",
    "    yhat = np.concatenate((x,yhat))\n",
    "    df = pd.DataFrame({'Date':Nut_memory[Nut_memory['year']==test_yr]['Date'],nutrient:yhat.flatten()})\n",
    "    return df,model,yhat"
   ]
  },
  {
   "cell_type": "code",
   "execution_count": 183,
   "id": "measured-cannon",
   "metadata": {},
   "outputs": [],
   "source": [
    "def compare(Erken_Nut,Nut_memory,nutrient,RMSE,R2,hat):\n",
    "    compare = Erken_Nut.merge(Nut_memory,on = 'Date',how = 'left')[['Date',nutrient+'_x',nutrient+'_y']].dropna()\n",
    "    compare.columns = [['Date','ML','OB']]\n",
    "    rmse = sqrt(mean_squared_error(compare['OB'], compare['ML']))\n",
    "    r2 = r2_score(compare['OB'], compare['ML'])\n",
    "    RMSE.append(rmse)\n",
    "    R2.append(r2)\n",
    "    # Add the time-series prediction into sample dataset for next variable modeling\n",
    "    Nut_memory.loc[Nut_memory['year']==test_yr,nutrient] = hat\n",
    "    return RMSE,R2,Nut_memory"
   ]
  },
  {
   "cell_type": "code",
   "execution_count": 325,
   "id": "organized-magazine",
   "metadata": {},
   "outputs": [],
   "source": [
    "def predict_ts(df,nutrient,model,var_name,hyperparameters):\n",
    "    values = load_dataset(df,var_name) #values = values.astype('float32')\n",
    "    # frame as supervised learning\n",
    "    n_var = len(var_name)\n",
    "    reframed = reframe(values,hyperparameters,var_name)\n",
    "    values = reframed.values\n",
    "    \n",
    "    # add the predictive values into dataset\n",
    "    value_X, value_y = values[:, :-1], values[:, -1]\n",
    "    value_X = value_X.reshape((value_X.shape[0], hyperparameters['time_steps']+1, int(value_X.shape[1]/(hyperparameters['time_steps']+1))))\n",
    "    y_pred = Scaler.inverse_transform(model.predict(value_X,batch_size = hyperparameters['n_batch']))    \n",
    "    df[nutrient].iloc[hyperparameters['time_steps']:]=y_pred[:,0]\n",
    "    df[nutrient].fillna(method = 'backfill',inplace = True)\n",
    "    return df"
   ]
  },
  {
   "cell_type": "code",
   "execution_count": 36,
   "id": "closing-hormone",
   "metadata": {},
   "outputs": [],
   "source": [
    "# Load testing dataset(Daily data)\n",
    "def read_daily_df(experiment_time,features,file): # test_time = pd.Timestamp(yyyy,mm,dd)\n",
    "    os.chdir(trainning_folder)\n",
    "    Erken_HydMet = pd.read_csv(file,header = 0)\n",
    "    Erken_HydMet['Date'] = pd.to_datetime(Erken_HydMet['Date'])\n",
    "    Erken_HydMet = Erken_HydMet[Erken_HydMet['Date']>=experiment_time]\n",
    "    return Erken_HydMet"
   ]
  },
  {
   "cell_type": "code",
   "execution_count": 395,
   "id": "rising-memory",
   "metadata": {},
   "outputs": [],
   "source": [
    "def resample(Nut,Erken_Met,sample_interval):\n",
    "    # Resample the dataset\n",
    "    drop_row = []\n",
    "    dT = 0\n",
    "    i = 1\n",
    "    Nut_sample = Nut.copy()\n",
    "    Nut_sample['year'] = Nut_sample['Date'].apply(lambda yr:yr.year)\n",
    "    Nut_train = Nut_sample[Nut_sample['year']!=test_yr]\n",
    "    Nut_test = Nut_sample[Nut_sample['year']==test_yr]\n",
    "    while True:\n",
    "        dT = (Nut_train['Date'].iloc[i]-Nut_train['Date'].iloc[i-1])/np.timedelta64(1, 'D')\n",
    "        if dT<sample_interval: # set the data frequency (over 10, 14, 20 days)\n",
    "            #print(sample_df['Date'].iloc[i])\n",
    "            Nut_train.drop(Nut_train.index.values[i],axis = 0,inplace  =True)\n",
    "        else:\n",
    "            i+=1\n",
    "        if i>=len(Nut_train):break\n",
    "    Nut_sample = pd.concat([Nut_train,Nut_test]).sort_values(by= 'Date')\n",
    "    Nut_memory = Erken_Met.merge(Nut_sample,how = 'left',on = 'Date')\n",
    "    Nut_memory['year'] = Nut_memory['Date'].apply(lambda d:d.year)\n",
    "    return Nut_memory"
   ]
  },
  {
   "cell_type": "code",
   "execution_count": 374,
   "id": "floral-communist",
   "metadata": {},
   "outputs": [],
   "source": [
    "# Load training dataset\n",
    "os.chdir(trainning_folder)\n",
    "all_df = pd.read_csv('Process_based_trainning_df.csv',sep = ',')\n",
    "all_df['Date'] = pd.to_datetime(all_df['Date'])\n",
    "\n",
    "# Load daily physical factors\n",
    "file = 'Process_based_Daily_df_with ice therm W.csv'\n",
    "experiment_time = pd.Timestamp(2004,1,1)\n",
    "Erken_Met = read_daily_df(experiment_time,features,file) # choose ice data or not"
   ]
  },
  {
   "cell_type": "code",
   "execution_count": 375,
   "id": "rapid-paint",
   "metadata": {},
   "outputs": [],
   "source": [
    "# set the directory\n",
    "os.chdir(LSTM_save_folder)\n",
    "# Create the daily df with Nan in nutrients columns\n",
    "Nut = all_df[['Date','Si(mmole/m3)','TotP(mmole/m3)','NH4(mmole/m3)','NOX(mmole/m3)','PO4(mmole/m3)',\n",
    "               'O2(mmole/m3)','Chl(mg/m3)']]"
   ]
  },
  {
   "cell_type": "code",
   "execution_count": 408,
   "id": "reported-cartoon",
   "metadata": {},
   "outputs": [],
   "source": [
    "# Define the features and years\n",
    "features = ['Date','month','U','SST','AirT','delT','Humidity','CC','swr(w/m2)','Prec(mm/d)','inflow(m3/s)']\n",
    "features.extend(['Ice_d','days from iceoff','MLD','W','thermD'])\n",
    "year = [2004,2005,2006,2007,2008,2009,2010,2011,2012,2013,2014,2015,2016,2017,2018,2019,2020]"
   ]
  },
  {
   "cell_type": "code",
   "execution_count": 478,
   "id": "equipped-bachelor",
   "metadata": {},
   "outputs": [],
   "source": [
    "Erken_NOX = pd.DataFrame(columns = ['Date','NOX(mmole/m3)'])\n",
    "Erken_O2 = pd.DataFrame(columns = ['Date','O2(mmole/m3)'])\n",
    "Erken_NH4 = pd.DataFrame(columns = ['Date','NH4(mmole/m3)'])\n",
    "Erken_PO4 = pd.DataFrame(columns = ['Date','PO4(mmole/m3)'])\n",
    "Erken_TP = pd.DataFrame(columns = ['Date','TP(mmole/m3)'])\n",
    "Erken_Si = pd.DataFrame(columns = ['Date','Si(mmole/m3)'])\n",
    "Erken_Chl = pd.DataFrame(columns = ['Date','Chl(mg/m3)'])\n",
    "\n",
    "NOX_RMSE = []\n",
    "NOX_R2 = []\n",
    "O2_RMSE = []\n",
    "O2_R2 = []\n",
    "NH4_RMSE = []\n",
    "NH4_R2 = []\n",
    "PO4_RMSE = []\n",
    "PO4_R2 = []\n",
    "TP_RMSE = []\n",
    "TP_R2 = []\n",
    "Si_RMSE = []\n",
    "Si_R2 = []\n",
    "Chl_RMSE = []\n",
    "Chl_R2 = []"
   ]
  },
  {
   "cell_type": "code",
   "execution_count": 479,
   "id": "funded-grace",
   "metadata": {},
   "outputs": [],
   "source": [
    "# set the hyperparameters\n",
    "hyperparameters = {'n_batch':10,'nb_epoch':100,'n_neuros':200,'dropout':0.1,'time_steps':7,'n_out':1,'verbose':0}"
   ]
  },
  {
   "cell_type": "code",
   "execution_count": 480,
   "id": "liberal-jewelry",
   "metadata": {
    "scrolled": true
   },
   "outputs": [
    {
     "name": "stderr",
     "output_type": "stream",
     "text": [
      "\n",
      "A value is trying to be set on a copy of a slice from a DataFrame\n",
      "\n",
      "See the caveats in the documentation: https://pandas.pydata.org/pandas-docs/stable/user_guide/indexing.html#returning-a-view-versus-a-copy\n"
     ]
    },
    {
     "name": "stdout",
     "output_type": "stream",
     "text": [
      "NOX(mmole/m3)\n",
      "(3658, 8, 13) (3658,) (195, 8, 13) (195,)\n",
      "number of input timesteps: 8\n",
      "number of features: 13\n",
      "number of samples: 103\n"
     ]
    },
    {
     "name": "stderr",
     "output_type": "stream",
     "text": [
      "\n",
      "A value is trying to be set on a copy of a slice from a DataFrame\n",
      "\n",
      "See the caveats in the documentation: https://pandas.pydata.org/pandas-docs/stable/user_guide/indexing.html#returning-a-view-versus-a-copy\n"
     ]
    },
    {
     "name": "stdout",
     "output_type": "stream",
     "text": [
      "\n",
      "\n",
      "O2(mmole/m3)\n",
      "(3658, 8, 13) (3658,) (195, 8, 13) (195,)\n",
      "number of input timesteps: 8\n",
      "number of features: 13\n",
      "number of samples: 103\n"
     ]
    },
    {
     "name": "stderr",
     "output_type": "stream",
     "text": [
      "\n",
      "A value is trying to be set on a copy of a slice from a DataFrame\n",
      "\n",
      "See the caveats in the documentation: https://pandas.pydata.org/pandas-docs/stable/user_guide/indexing.html#returning-a-view-versus-a-copy\n"
     ]
    },
    {
     "name": "stdout",
     "output_type": "stream",
     "text": [
      "\n",
      "\n",
      "NH4(mmole/m3)\n",
      "(3658, 8, 15) (3658,) (195, 8, 15) (195,)\n",
      "number of input timesteps: 8\n",
      "number of features: 15\n",
      "number of samples: 103\n"
     ]
    },
    {
     "name": "stderr",
     "output_type": "stream",
     "text": [
      "\n",
      "A value is trying to be set on a copy of a slice from a DataFrame\n",
      "\n",
      "See the caveats in the documentation: https://pandas.pydata.org/pandas-docs/stable/user_guide/indexing.html#returning-a-view-versus-a-copy\n"
     ]
    },
    {
     "name": "stdout",
     "output_type": "stream",
     "text": [
      "\n",
      "\n",
      "PO4(mmole/m3)\n",
      "(3658, 8, 15) (3658,) (195, 8, 15) (195,)\n",
      "number of input timesteps: 8\n",
      "number of features: 15\n",
      "number of samples: 103\n"
     ]
    },
    {
     "name": "stderr",
     "output_type": "stream",
     "text": [
      "\n",
      "A value is trying to be set on a copy of a slice from a DataFrame\n",
      "\n",
      "See the caveats in the documentation: https://pandas.pydata.org/pandas-docs/stable/user_guide/indexing.html#returning-a-view-versus-a-copy\n"
     ]
    },
    {
     "name": "stdout",
     "output_type": "stream",
     "text": [
      "\n",
      "\n",
      "TotP(mmole/m3)\n",
      "(3658, 8, 16) (3658,) (195, 8, 16) (195,)\n",
      "number of input timesteps: 8\n",
      "number of features: 16\n",
      "number of samples: 103\n"
     ]
    },
    {
     "name": "stderr",
     "output_type": "stream",
     "text": [
      "\n",
      "A value is trying to be set on a copy of a slice from a DataFrame\n",
      "\n",
      "See the caveats in the documentation: https://pandas.pydata.org/pandas-docs/stable/user_guide/indexing.html#returning-a-view-versus-a-copy\n"
     ]
    },
    {
     "name": "stdout",
     "output_type": "stream",
     "text": [
      "\n",
      "\n",
      "Si(mmole/m3)\n",
      "(3658, 8, 16) (3658,) (195, 8, 16) (195,)\n",
      "number of input timesteps: 8\n",
      "number of features: 16\n",
      "number of samples: 103\n"
     ]
    },
    {
     "name": "stderr",
     "output_type": "stream",
     "text": [
      "\n",
      "A value is trying to be set on a copy of a slice from a DataFrame\n",
      "\n",
      "See the caveats in the documentation: https://pandas.pydata.org/pandas-docs/stable/user_guide/indexing.html#returning-a-view-versus-a-copy\n"
     ]
    },
    {
     "name": "stdout",
     "output_type": "stream",
     "text": [
      "\n",
      "\n",
      "Chl(mg/m3)\n",
      "(3658, 8, 19) (3658,) (195, 8, 19) (195,)\n",
      "number of input timesteps: 8\n",
      "number of features: 19\n",
      "number of samples: 103\n"
     ]
    },
    {
     "name": "stderr",
     "output_type": "stream",
     "text": [
      "\n",
      "A value is trying to be set on a copy of a slice from a DataFrame\n",
      "\n",
      "See the caveats in the documentation: https://pandas.pydata.org/pandas-docs/stable/user_guide/indexing.html#returning-a-view-versus-a-copy\n",
      "\n",
      "A value is trying to be set on a copy of a slice from a DataFrame\n",
      "\n",
      "See the caveats in the documentation: https://pandas.pydata.org/pandas-docs/stable/user_guide/indexing.html#returning-a-view-versus-a-copy\n"
     ]
    },
    {
     "name": "stdout",
     "output_type": "stream",
     "text": [
      "2004\n",
      "Model takes 10 min to run\n",
      "\n",
      "\n",
      "NOX(mmole/m3)\n",
      "(3629, 8, 13) (3629,) (224, 8, 13) (224,)\n",
      "number of input timesteps: 8\n",
      "number of features: 13\n",
      "number of samples: 103\n"
     ]
    },
    {
     "name": "stderr",
     "output_type": "stream",
     "text": [
      "\n",
      "A value is trying to be set on a copy of a slice from a DataFrame\n",
      "\n",
      "See the caveats in the documentation: https://pandas.pydata.org/pandas-docs/stable/user_guide/indexing.html#returning-a-view-versus-a-copy\n"
     ]
    },
    {
     "name": "stdout",
     "output_type": "stream",
     "text": [
      "\n",
      "\n",
      "O2(mmole/m3)\n",
      "(3629, 8, 13) (3629,) (224, 8, 13) (224,)\n",
      "number of input timesteps: 8\n",
      "number of features: 13\n",
      "number of samples: 103\n"
     ]
    },
    {
     "name": "stderr",
     "output_type": "stream",
     "text": [
      "\n",
      "A value is trying to be set on a copy of a slice from a DataFrame\n",
      "\n",
      "See the caveats in the documentation: https://pandas.pydata.org/pandas-docs/stable/user_guide/indexing.html#returning-a-view-versus-a-copy\n"
     ]
    },
    {
     "name": "stdout",
     "output_type": "stream",
     "text": [
      "\n",
      "\n",
      "NH4(mmole/m3)\n",
      "(3629, 8, 15) (3629,) (224, 8, 15) (224,)\n",
      "number of input timesteps: 8\n",
      "number of features: 15\n",
      "number of samples: 103\n"
     ]
    },
    {
     "name": "stderr",
     "output_type": "stream",
     "text": [
      "\n",
      "A value is trying to be set on a copy of a slice from a DataFrame\n",
      "\n",
      "See the caveats in the documentation: https://pandas.pydata.org/pandas-docs/stable/user_guide/indexing.html#returning-a-view-versus-a-copy\n"
     ]
    },
    {
     "name": "stdout",
     "output_type": "stream",
     "text": [
      "\n",
      "\n",
      "PO4(mmole/m3)\n",
      "(3629, 8, 15) (3629,) (224, 8, 15) (224,)\n",
      "number of input timesteps: 8\n",
      "number of features: 15\n",
      "number of samples: 103\n"
     ]
    },
    {
     "name": "stderr",
     "output_type": "stream",
     "text": [
      "\n",
      "A value is trying to be set on a copy of a slice from a DataFrame\n",
      "\n",
      "See the caveats in the documentation: https://pandas.pydata.org/pandas-docs/stable/user_guide/indexing.html#returning-a-view-versus-a-copy\n"
     ]
    },
    {
     "name": "stdout",
     "output_type": "stream",
     "text": [
      "\n",
      "\n",
      "TotP(mmole/m3)\n",
      "(3629, 8, 16) (3629,) (224, 8, 16) (224,)\n",
      "number of input timesteps: 8\n",
      "number of features: 16\n",
      "number of samples: 103\n"
     ]
    },
    {
     "name": "stderr",
     "output_type": "stream",
     "text": [
      "\n",
      "A value is trying to be set on a copy of a slice from a DataFrame\n",
      "\n",
      "See the caveats in the documentation: https://pandas.pydata.org/pandas-docs/stable/user_guide/indexing.html#returning-a-view-versus-a-copy\n"
     ]
    },
    {
     "name": "stdout",
     "output_type": "stream",
     "text": [
      "\n",
      "\n",
      "Si(mmole/m3)\n",
      "(3629, 8, 16) (3629,) (224, 8, 16) (224,)\n",
      "number of input timesteps: 8\n",
      "number of features: 16\n",
      "number of samples: 103\n"
     ]
    },
    {
     "name": "stderr",
     "output_type": "stream",
     "text": [
      "\n",
      "A value is trying to be set on a copy of a slice from a DataFrame\n",
      "\n",
      "See the caveats in the documentation: https://pandas.pydata.org/pandas-docs/stable/user_guide/indexing.html#returning-a-view-versus-a-copy\n"
     ]
    },
    {
     "name": "stdout",
     "output_type": "stream",
     "text": [
      "\n",
      "\n",
      "Chl(mg/m3)\n",
      "(3629, 8, 19) (3629,) (224, 8, 19) (224,)\n",
      "number of input timesteps: 8\n",
      "number of features: 19\n",
      "number of samples: 103\n"
     ]
    },
    {
     "name": "stderr",
     "output_type": "stream",
     "text": [
      "\n",
      "A value is trying to be set on a copy of a slice from a DataFrame\n",
      "\n",
      "See the caveats in the documentation: https://pandas.pydata.org/pandas-docs/stable/user_guide/indexing.html#returning-a-view-versus-a-copy\n",
      "\n",
      "A value is trying to be set on a copy of a slice from a DataFrame\n",
      "\n",
      "See the caveats in the documentation: https://pandas.pydata.org/pandas-docs/stable/user_guide/indexing.html#returning-a-view-versus-a-copy\n"
     ]
    },
    {
     "name": "stdout",
     "output_type": "stream",
     "text": [
      "2005\n",
      "Model takes 10 min to run\n",
      "\n",
      "\n",
      "NOX(mmole/m3)\n",
      "(3631, 8, 13) (3631,) (222, 8, 13) (222,)\n",
      "number of input timesteps: 8\n",
      "number of features: 13\n",
      "number of samples: 103\n"
     ]
    },
    {
     "name": "stderr",
     "output_type": "stream",
     "text": [
      "\n",
      "A value is trying to be set on a copy of a slice from a DataFrame\n",
      "\n",
      "See the caveats in the documentation: https://pandas.pydata.org/pandas-docs/stable/user_guide/indexing.html#returning-a-view-versus-a-copy\n"
     ]
    },
    {
     "name": "stdout",
     "output_type": "stream",
     "text": [
      "\n",
      "\n",
      "O2(mmole/m3)\n",
      "(3631, 8, 13) (3631,) (222, 8, 13) (222,)\n",
      "number of input timesteps: 8\n",
      "number of features: 13\n",
      "number of samples: 103\n"
     ]
    },
    {
     "name": "stderr",
     "output_type": "stream",
     "text": [
      "\n",
      "A value is trying to be set on a copy of a slice from a DataFrame\n",
      "\n",
      "See the caveats in the documentation: https://pandas.pydata.org/pandas-docs/stable/user_guide/indexing.html#returning-a-view-versus-a-copy\n"
     ]
    },
    {
     "name": "stdout",
     "output_type": "stream",
     "text": [
      "\n",
      "\n",
      "NH4(mmole/m3)\n",
      "(3631, 8, 15) (3631,) (222, 8, 15) (222,)\n",
      "number of input timesteps: 8\n",
      "number of features: 15\n",
      "number of samples: 103\n"
     ]
    },
    {
     "name": "stderr",
     "output_type": "stream",
     "text": [
      "\n",
      "A value is trying to be set on a copy of a slice from a DataFrame\n",
      "\n",
      "See the caveats in the documentation: https://pandas.pydata.org/pandas-docs/stable/user_guide/indexing.html#returning-a-view-versus-a-copy\n"
     ]
    },
    {
     "name": "stdout",
     "output_type": "stream",
     "text": [
      "\n",
      "\n",
      "PO4(mmole/m3)\n",
      "(3631, 8, 15) (3631,) (222, 8, 15) (222,)\n",
      "number of input timesteps: 8\n",
      "number of features: 15\n",
      "number of samples: 103\n"
     ]
    },
    {
     "name": "stderr",
     "output_type": "stream",
     "text": [
      "\n",
      "A value is trying to be set on a copy of a slice from a DataFrame\n",
      "\n",
      "See the caveats in the documentation: https://pandas.pydata.org/pandas-docs/stable/user_guide/indexing.html#returning-a-view-versus-a-copy\n"
     ]
    },
    {
     "name": "stdout",
     "output_type": "stream",
     "text": [
      "\n",
      "\n",
      "TotP(mmole/m3)\n",
      "(3631, 8, 16) (3631,) (222, 8, 16) (222,)\n",
      "number of input timesteps: 8\n",
      "number of features: 16\n",
      "number of samples: 103\n"
     ]
    },
    {
     "name": "stderr",
     "output_type": "stream",
     "text": [
      "\n",
      "A value is trying to be set on a copy of a slice from a DataFrame\n",
      "\n",
      "See the caveats in the documentation: https://pandas.pydata.org/pandas-docs/stable/user_guide/indexing.html#returning-a-view-versus-a-copy\n"
     ]
    },
    {
     "name": "stdout",
     "output_type": "stream",
     "text": [
      "\n",
      "\n",
      "Si(mmole/m3)\n",
      "(3631, 8, 16) (3631,) (222, 8, 16) (222,)\n",
      "number of input timesteps: 8\n",
      "number of features: 16\n",
      "number of samples: 103\n"
     ]
    },
    {
     "name": "stderr",
     "output_type": "stream",
     "text": [
      "\n",
      "A value is trying to be set on a copy of a slice from a DataFrame\n",
      "\n",
      "See the caveats in the documentation: https://pandas.pydata.org/pandas-docs/stable/user_guide/indexing.html#returning-a-view-versus-a-copy\n"
     ]
    },
    {
     "name": "stdout",
     "output_type": "stream",
     "text": [
      "\n",
      "\n",
      "Chl(mg/m3)\n",
      "(3631, 8, 19) (3631,) (222, 8, 19) (222,)\n",
      "number of input timesteps: 8\n",
      "number of features: 19\n",
      "number of samples: 103\n"
     ]
    },
    {
     "name": "stderr",
     "output_type": "stream",
     "text": [
      "\n",
      "A value is trying to be set on a copy of a slice from a DataFrame\n",
      "\n",
      "See the caveats in the documentation: https://pandas.pydata.org/pandas-docs/stable/user_guide/indexing.html#returning-a-view-versus-a-copy\n",
      "\n",
      "A value is trying to be set on a copy of a slice from a DataFrame\n",
      "\n",
      "See the caveats in the documentation: https://pandas.pydata.org/pandas-docs/stable/user_guide/indexing.html#returning-a-view-versus-a-copy\n"
     ]
    },
    {
     "name": "stdout",
     "output_type": "stream",
     "text": [
      "2006\n",
      "Model takes 10 min to run\n",
      "\n",
      "\n",
      "NOX(mmole/m3)\n",
      "(3643, 8, 13) (3643,) (210, 8, 13) (210,)\n",
      "number of input timesteps: 8\n",
      "number of features: 13\n",
      "number of samples: 105\n"
     ]
    },
    {
     "name": "stderr",
     "output_type": "stream",
     "text": [
      "\n",
      "A value is trying to be set on a copy of a slice from a DataFrame\n",
      "\n",
      "See the caveats in the documentation: https://pandas.pydata.org/pandas-docs/stable/user_guide/indexing.html#returning-a-view-versus-a-copy\n"
     ]
    },
    {
     "name": "stdout",
     "output_type": "stream",
     "text": [
      "\n",
      "\n",
      "O2(mmole/m3)\n",
      "(3643, 8, 13) (3643,) (210, 8, 13) (210,)\n",
      "number of input timesteps: 8\n",
      "number of features: 13\n",
      "number of samples: 105\n"
     ]
    },
    {
     "name": "stderr",
     "output_type": "stream",
     "text": [
      "\n",
      "A value is trying to be set on a copy of a slice from a DataFrame\n",
      "\n",
      "See the caveats in the documentation: https://pandas.pydata.org/pandas-docs/stable/user_guide/indexing.html#returning-a-view-versus-a-copy\n"
     ]
    },
    {
     "name": "stdout",
     "output_type": "stream",
     "text": [
      "\n",
      "\n",
      "NH4(mmole/m3)\n",
      "(3643, 8, 15) (3643,) (210, 8, 15) (210,)\n",
      "number of input timesteps: 8\n",
      "number of features: 15\n",
      "number of samples: 105\n"
     ]
    },
    {
     "name": "stderr",
     "output_type": "stream",
     "text": [
      "\n",
      "A value is trying to be set on a copy of a slice from a DataFrame\n",
      "\n",
      "See the caveats in the documentation: https://pandas.pydata.org/pandas-docs/stable/user_guide/indexing.html#returning-a-view-versus-a-copy\n"
     ]
    },
    {
     "name": "stdout",
     "output_type": "stream",
     "text": [
      "\n",
      "\n",
      "PO4(mmole/m3)\n",
      "(3643, 8, 15) (3643,) (210, 8, 15) (210,)\n",
      "number of input timesteps: 8\n",
      "number of features: 15\n",
      "number of samples: 105\n"
     ]
    },
    {
     "name": "stderr",
     "output_type": "stream",
     "text": [
      "\n",
      "A value is trying to be set on a copy of a slice from a DataFrame\n",
      "\n",
      "See the caveats in the documentation: https://pandas.pydata.org/pandas-docs/stable/user_guide/indexing.html#returning-a-view-versus-a-copy\n"
     ]
    },
    {
     "name": "stdout",
     "output_type": "stream",
     "text": [
      "\n",
      "\n",
      "TotP(mmole/m3)\n",
      "(3643, 8, 16) (3643,) (210, 8, 16) (210,)\n",
      "number of input timesteps: 8\n",
      "number of features: 16\n",
      "number of samples: 105\n"
     ]
    },
    {
     "name": "stderr",
     "output_type": "stream",
     "text": [
      "\n",
      "A value is trying to be set on a copy of a slice from a DataFrame\n",
      "\n",
      "See the caveats in the documentation: https://pandas.pydata.org/pandas-docs/stable/user_guide/indexing.html#returning-a-view-versus-a-copy\n"
     ]
    },
    {
     "name": "stdout",
     "output_type": "stream",
     "text": [
      "\n",
      "\n",
      "Si(mmole/m3)\n",
      "(3643, 8, 16) (3643,) (210, 8, 16) (210,)\n",
      "number of input timesteps: 8\n",
      "number of features: 16\n",
      "number of samples: 105\n"
     ]
    },
    {
     "name": "stderr",
     "output_type": "stream",
     "text": [
      "\n",
      "A value is trying to be set on a copy of a slice from a DataFrame\n",
      "\n",
      "See the caveats in the documentation: https://pandas.pydata.org/pandas-docs/stable/user_guide/indexing.html#returning-a-view-versus-a-copy\n"
     ]
    },
    {
     "name": "stdout",
     "output_type": "stream",
     "text": [
      "\n",
      "\n",
      "Chl(mg/m3)\n",
      "(3643, 8, 19) (3643,) (210, 8, 19) (210,)\n",
      "number of input timesteps: 8\n",
      "number of features: 19\n",
      "number of samples: 105\n"
     ]
    },
    {
     "name": "stderr",
     "output_type": "stream",
     "text": [
      "\n",
      "A value is trying to be set on a copy of a slice from a DataFrame\n",
      "\n",
      "See the caveats in the documentation: https://pandas.pydata.org/pandas-docs/stable/user_guide/indexing.html#returning-a-view-versus-a-copy\n",
      "\n",
      "A value is trying to be set on a copy of a slice from a DataFrame\n",
      "\n",
      "See the caveats in the documentation: https://pandas.pydata.org/pandas-docs/stable/user_guide/indexing.html#returning-a-view-versus-a-copy\n"
     ]
    },
    {
     "name": "stdout",
     "output_type": "stream",
     "text": [
      "2007\n",
      "Model takes 10 min to run\n",
      "\n",
      "\n",
      "NOX(mmole/m3)\n",
      "(3641, 8, 13) (3641,) (212, 8, 13) (212,)\n",
      "number of input timesteps: 8\n",
      "number of features: 13\n",
      "number of samples: 104\n"
     ]
    },
    {
     "name": "stderr",
     "output_type": "stream",
     "text": [
      "\n",
      "A value is trying to be set on a copy of a slice from a DataFrame\n",
      "\n",
      "See the caveats in the documentation: https://pandas.pydata.org/pandas-docs/stable/user_guide/indexing.html#returning-a-view-versus-a-copy\n"
     ]
    },
    {
     "name": "stdout",
     "output_type": "stream",
     "text": [
      "\n",
      "\n",
      "O2(mmole/m3)\n",
      "(3641, 8, 13) (3641,) (212, 8, 13) (212,)\n",
      "number of input timesteps: 8\n",
      "number of features: 13\n",
      "number of samples: 104\n"
     ]
    },
    {
     "name": "stderr",
     "output_type": "stream",
     "text": [
      "\n",
      "A value is trying to be set on a copy of a slice from a DataFrame\n",
      "\n",
      "See the caveats in the documentation: https://pandas.pydata.org/pandas-docs/stable/user_guide/indexing.html#returning-a-view-versus-a-copy\n"
     ]
    },
    {
     "name": "stdout",
     "output_type": "stream",
     "text": [
      "\n",
      "\n",
      "NH4(mmole/m3)\n",
      "(3641, 8, 15) (3641,) (212, 8, 15) (212,)\n",
      "number of input timesteps: 8\n",
      "number of features: 15\n",
      "number of samples: 104\n"
     ]
    },
    {
     "name": "stderr",
     "output_type": "stream",
     "text": [
      "\n",
      "A value is trying to be set on a copy of a slice from a DataFrame\n",
      "\n",
      "See the caveats in the documentation: https://pandas.pydata.org/pandas-docs/stable/user_guide/indexing.html#returning-a-view-versus-a-copy\n"
     ]
    },
    {
     "name": "stdout",
     "output_type": "stream",
     "text": [
      "\n",
      "\n",
      "PO4(mmole/m3)\n",
      "(3641, 8, 15) (3641,) (212, 8, 15) (212,)\n",
      "number of input timesteps: 8\n",
      "number of features: 15\n",
      "number of samples: 104\n"
     ]
    },
    {
     "name": "stderr",
     "output_type": "stream",
     "text": [
      "\n",
      "A value is trying to be set on a copy of a slice from a DataFrame\n",
      "\n",
      "See the caveats in the documentation: https://pandas.pydata.org/pandas-docs/stable/user_guide/indexing.html#returning-a-view-versus-a-copy\n"
     ]
    },
    {
     "name": "stdout",
     "output_type": "stream",
     "text": [
      "\n",
      "\n",
      "TotP(mmole/m3)\n",
      "(3641, 8, 16) (3641,) (212, 8, 16) (212,)\n",
      "number of input timesteps: 8\n",
      "number of features: 16\n",
      "number of samples: 104\n"
     ]
    },
    {
     "name": "stderr",
     "output_type": "stream",
     "text": [
      "\n",
      "A value is trying to be set on a copy of a slice from a DataFrame\n",
      "\n",
      "See the caveats in the documentation: https://pandas.pydata.org/pandas-docs/stable/user_guide/indexing.html#returning-a-view-versus-a-copy\n"
     ]
    },
    {
     "name": "stdout",
     "output_type": "stream",
     "text": [
      "\n",
      "\n",
      "Si(mmole/m3)\n",
      "(3641, 8, 16) (3641,) (212, 8, 16) (212,)\n",
      "number of input timesteps: 8\n",
      "number of features: 16\n",
      "number of samples: 104\n"
     ]
    },
    {
     "name": "stderr",
     "output_type": "stream",
     "text": [
      "\n",
      "A value is trying to be set on a copy of a slice from a DataFrame\n",
      "\n",
      "See the caveats in the documentation: https://pandas.pydata.org/pandas-docs/stable/user_guide/indexing.html#returning-a-view-versus-a-copy\n"
     ]
    },
    {
     "name": "stdout",
     "output_type": "stream",
     "text": [
      "\n",
      "\n",
      "Chl(mg/m3)\n",
      "(3641, 8, 19) (3641,) (212, 8, 19) (212,)\n",
      "number of input timesteps: 8\n",
      "number of features: 19\n",
      "number of samples: 104\n"
     ]
    },
    {
     "name": "stderr",
     "output_type": "stream",
     "text": [
      "\n",
      "A value is trying to be set on a copy of a slice from a DataFrame\n",
      "\n",
      "See the caveats in the documentation: https://pandas.pydata.org/pandas-docs/stable/user_guide/indexing.html#returning-a-view-versus-a-copy\n",
      "\n",
      "A value is trying to be set on a copy of a slice from a DataFrame\n",
      "\n",
      "See the caveats in the documentation: https://pandas.pydata.org/pandas-docs/stable/user_guide/indexing.html#returning-a-view-versus-a-copy\n"
     ]
    },
    {
     "name": "stdout",
     "output_type": "stream",
     "text": [
      "2008\n",
      "Model takes 2847 min to run\n",
      "\n",
      "\n",
      "NOX(mmole/m3)\n",
      "(3628, 8, 13) (3628,) (225, 8, 13) (225,)\n",
      "number of input timesteps: 8\n",
      "number of features: 13\n",
      "number of samples: 104\n"
     ]
    },
    {
     "name": "stderr",
     "output_type": "stream",
     "text": [
      "\n",
      "A value is trying to be set on a copy of a slice from a DataFrame\n",
      "\n",
      "See the caveats in the documentation: https://pandas.pydata.org/pandas-docs/stable/user_guide/indexing.html#returning-a-view-versus-a-copy\n"
     ]
    },
    {
     "name": "stdout",
     "output_type": "stream",
     "text": [
      "\n",
      "\n",
      "O2(mmole/m3)\n",
      "(3628, 8, 13) (3628,) (225, 8, 13) (225,)\n",
      "number of input timesteps: 8\n",
      "number of features: 13\n",
      "number of samples: 104\n"
     ]
    },
    {
     "name": "stderr",
     "output_type": "stream",
     "text": [
      "\n",
      "A value is trying to be set on a copy of a slice from a DataFrame\n",
      "\n",
      "See the caveats in the documentation: https://pandas.pydata.org/pandas-docs/stable/user_guide/indexing.html#returning-a-view-versus-a-copy\n"
     ]
    },
    {
     "name": "stdout",
     "output_type": "stream",
     "text": [
      "\n",
      "\n",
      "NH4(mmole/m3)\n",
      "(3628, 8, 15) (3628,) (225, 8, 15) (225,)\n",
      "number of input timesteps: 8\n",
      "number of features: 15\n",
      "number of samples: 104\n"
     ]
    },
    {
     "name": "stderr",
     "output_type": "stream",
     "text": [
      "\n",
      "A value is trying to be set on a copy of a slice from a DataFrame\n",
      "\n",
      "See the caveats in the documentation: https://pandas.pydata.org/pandas-docs/stable/user_guide/indexing.html#returning-a-view-versus-a-copy\n"
     ]
    },
    {
     "name": "stdout",
     "output_type": "stream",
     "text": [
      "\n",
      "\n",
      "PO4(mmole/m3)\n",
      "(3628, 8, 15) (3628,) (225, 8, 15) (225,)\n",
      "number of input timesteps: 8\n",
      "number of features: 15\n",
      "number of samples: 104\n"
     ]
    },
    {
     "name": "stderr",
     "output_type": "stream",
     "text": [
      "\n",
      "A value is trying to be set on a copy of a slice from a DataFrame\n",
      "\n",
      "See the caveats in the documentation: https://pandas.pydata.org/pandas-docs/stable/user_guide/indexing.html#returning-a-view-versus-a-copy\n"
     ]
    },
    {
     "name": "stdout",
     "output_type": "stream",
     "text": [
      "\n",
      "\n",
      "TotP(mmole/m3)\n",
      "(3628, 8, 16) (3628,) (225, 8, 16) (225,)\n",
      "number of input timesteps: 8\n",
      "number of features: 16\n",
      "number of samples: 104\n"
     ]
    },
    {
     "name": "stderr",
     "output_type": "stream",
     "text": [
      "\n",
      "A value is trying to be set on a copy of a slice from a DataFrame\n",
      "\n",
      "See the caveats in the documentation: https://pandas.pydata.org/pandas-docs/stable/user_guide/indexing.html#returning-a-view-versus-a-copy\n"
     ]
    },
    {
     "name": "stdout",
     "output_type": "stream",
     "text": [
      "\n",
      "\n",
      "Si(mmole/m3)\n",
      "(3628, 8, 16) (3628,) (225, 8, 16) (225,)\n",
      "number of input timesteps: 8\n",
      "number of features: 16\n",
      "number of samples: 104\n"
     ]
    },
    {
     "name": "stderr",
     "output_type": "stream",
     "text": [
      "\n",
      "A value is trying to be set on a copy of a slice from a DataFrame\n",
      "\n",
      "See the caveats in the documentation: https://pandas.pydata.org/pandas-docs/stable/user_guide/indexing.html#returning-a-view-versus-a-copy\n"
     ]
    },
    {
     "name": "stdout",
     "output_type": "stream",
     "text": [
      "\n",
      "\n",
      "Chl(mg/m3)\n",
      "(3628, 8, 19) (3628,) (225, 8, 19) (225,)\n",
      "number of input timesteps: 8\n",
      "number of features: 19\n",
      "number of samples: 104\n"
     ]
    },
    {
     "name": "stderr",
     "output_type": "stream",
     "text": [
      "\n",
      "A value is trying to be set on a copy of a slice from a DataFrame\n",
      "\n",
      "See the caveats in the documentation: https://pandas.pydata.org/pandas-docs/stable/user_guide/indexing.html#returning-a-view-versus-a-copy\n",
      "\n",
      "A value is trying to be set on a copy of a slice from a DataFrame\n",
      "\n",
      "See the caveats in the documentation: https://pandas.pydata.org/pandas-docs/stable/user_guide/indexing.html#returning-a-view-versus-a-copy\n"
     ]
    },
    {
     "name": "stdout",
     "output_type": "stream",
     "text": [
      "2009\n",
      "Model takes 10 min to run\n",
      "\n",
      "\n",
      "NOX(mmole/m3)\n",
      "(3622, 8, 13) (3622,) (231, 8, 13) (231,)\n",
      "number of input timesteps: 8\n",
      "number of features: 13\n",
      "number of samples: 103\n"
     ]
    },
    {
     "name": "stderr",
     "output_type": "stream",
     "text": [
      "\n",
      "A value is trying to be set on a copy of a slice from a DataFrame\n",
      "\n",
      "See the caveats in the documentation: https://pandas.pydata.org/pandas-docs/stable/user_guide/indexing.html#returning-a-view-versus-a-copy\n"
     ]
    },
    {
     "name": "stdout",
     "output_type": "stream",
     "text": [
      "\n",
      "\n",
      "O2(mmole/m3)\n",
      "(3622, 8, 13) (3622,) (231, 8, 13) (231,)\n",
      "number of input timesteps: 8\n",
      "number of features: 13\n",
      "number of samples: 103\n"
     ]
    },
    {
     "name": "stderr",
     "output_type": "stream",
     "text": [
      "\n",
      "A value is trying to be set on a copy of a slice from a DataFrame\n",
      "\n",
      "See the caveats in the documentation: https://pandas.pydata.org/pandas-docs/stable/user_guide/indexing.html#returning-a-view-versus-a-copy\n"
     ]
    },
    {
     "name": "stdout",
     "output_type": "stream",
     "text": [
      "\n",
      "\n",
      "NH4(mmole/m3)\n",
      "(3622, 8, 15) (3622,) (231, 8, 15) (231,)\n",
      "number of input timesteps: 8\n",
      "number of features: 15\n",
      "number of samples: 103\n"
     ]
    },
    {
     "name": "stderr",
     "output_type": "stream",
     "text": [
      "\n",
      "A value is trying to be set on a copy of a slice from a DataFrame\n",
      "\n",
      "See the caveats in the documentation: https://pandas.pydata.org/pandas-docs/stable/user_guide/indexing.html#returning-a-view-versus-a-copy\n"
     ]
    },
    {
     "name": "stdout",
     "output_type": "stream",
     "text": [
      "\n",
      "\n",
      "PO4(mmole/m3)\n",
      "(3622, 8, 15) (3622,) (231, 8, 15) (231,)\n",
      "number of input timesteps: 8\n",
      "number of features: 15\n",
      "number of samples: 103\n"
     ]
    },
    {
     "name": "stderr",
     "output_type": "stream",
     "text": [
      "\n",
      "A value is trying to be set on a copy of a slice from a DataFrame\n",
      "\n",
      "See the caveats in the documentation: https://pandas.pydata.org/pandas-docs/stable/user_guide/indexing.html#returning-a-view-versus-a-copy\n"
     ]
    },
    {
     "name": "stdout",
     "output_type": "stream",
     "text": [
      "\n",
      "\n",
      "TotP(mmole/m3)\n",
      "(3622, 8, 16) (3622,) (231, 8, 16) (231,)\n",
      "number of input timesteps: 8\n",
      "number of features: 16\n",
      "number of samples: 103\n"
     ]
    },
    {
     "name": "stderr",
     "output_type": "stream",
     "text": [
      "\n",
      "A value is trying to be set on a copy of a slice from a DataFrame\n",
      "\n",
      "See the caveats in the documentation: https://pandas.pydata.org/pandas-docs/stable/user_guide/indexing.html#returning-a-view-versus-a-copy\n"
     ]
    },
    {
     "name": "stdout",
     "output_type": "stream",
     "text": [
      "\n",
      "\n",
      "Si(mmole/m3)\n",
      "(3622, 8, 16) (3622,) (231, 8, 16) (231,)\n",
      "number of input timesteps: 8\n",
      "number of features: 16\n",
      "number of samples: 103\n"
     ]
    },
    {
     "name": "stderr",
     "output_type": "stream",
     "text": [
      "\n",
      "A value is trying to be set on a copy of a slice from a DataFrame\n",
      "\n",
      "See the caveats in the documentation: https://pandas.pydata.org/pandas-docs/stable/user_guide/indexing.html#returning-a-view-versus-a-copy\n"
     ]
    },
    {
     "name": "stdout",
     "output_type": "stream",
     "text": [
      "\n",
      "\n",
      "Chl(mg/m3)\n",
      "(3622, 8, 19) (3622,) (231, 8, 19) (231,)\n",
      "number of input timesteps: 8\n",
      "number of features: 19\n",
      "number of samples: 103\n"
     ]
    },
    {
     "name": "stderr",
     "output_type": "stream",
     "text": [
      "\n",
      "A value is trying to be set on a copy of a slice from a DataFrame\n",
      "\n",
      "See the caveats in the documentation: https://pandas.pydata.org/pandas-docs/stable/user_guide/indexing.html#returning-a-view-versus-a-copy\n",
      "\n",
      "A value is trying to be set on a copy of a slice from a DataFrame\n",
      "\n",
      "See the caveats in the documentation: https://pandas.pydata.org/pandas-docs/stable/user_guide/indexing.html#returning-a-view-versus-a-copy\n"
     ]
    },
    {
     "name": "stdout",
     "output_type": "stream",
     "text": [
      "2010\n",
      "Model takes 20 min to run\n",
      "\n",
      "\n",
      "NOX(mmole/m3)\n",
      "(3638, 8, 13) (3638,) (215, 8, 13) (215,)\n",
      "number of input timesteps: 8\n",
      "number of features: 13\n",
      "number of samples: 103\n"
     ]
    },
    {
     "name": "stderr",
     "output_type": "stream",
     "text": [
      "\n",
      "A value is trying to be set on a copy of a slice from a DataFrame\n",
      "\n",
      "See the caveats in the documentation: https://pandas.pydata.org/pandas-docs/stable/user_guide/indexing.html#returning-a-view-versus-a-copy\n"
     ]
    },
    {
     "name": "stdout",
     "output_type": "stream",
     "text": [
      "\n",
      "\n",
      "O2(mmole/m3)\n",
      "(3638, 8, 13) (3638,) (215, 8, 13) (215,)\n",
      "number of input timesteps: 8\n",
      "number of features: 13\n",
      "number of samples: 103\n"
     ]
    },
    {
     "name": "stderr",
     "output_type": "stream",
     "text": [
      "\n",
      "A value is trying to be set on a copy of a slice from a DataFrame\n",
      "\n",
      "See the caveats in the documentation: https://pandas.pydata.org/pandas-docs/stable/user_guide/indexing.html#returning-a-view-versus-a-copy\n"
     ]
    },
    {
     "name": "stdout",
     "output_type": "stream",
     "text": [
      "\n",
      "\n",
      "NH4(mmole/m3)\n",
      "(3638, 8, 15) (3638,) (215, 8, 15) (215,)\n",
      "number of input timesteps: 8\n",
      "number of features: 15\n",
      "number of samples: 103\n"
     ]
    },
    {
     "name": "stderr",
     "output_type": "stream",
     "text": [
      "\n",
      "A value is trying to be set on a copy of a slice from a DataFrame\n",
      "\n",
      "See the caveats in the documentation: https://pandas.pydata.org/pandas-docs/stable/user_guide/indexing.html#returning-a-view-versus-a-copy\n"
     ]
    },
    {
     "name": "stdout",
     "output_type": "stream",
     "text": [
      "\n",
      "\n",
      "PO4(mmole/m3)\n",
      "(3638, 8, 15) (3638,) (215, 8, 15) (215,)\n",
      "number of input timesteps: 8\n",
      "number of features: 15\n",
      "number of samples: 103\n"
     ]
    },
    {
     "name": "stderr",
     "output_type": "stream",
     "text": [
      "\n",
      "A value is trying to be set on a copy of a slice from a DataFrame\n",
      "\n",
      "See the caveats in the documentation: https://pandas.pydata.org/pandas-docs/stable/user_guide/indexing.html#returning-a-view-versus-a-copy\n"
     ]
    },
    {
     "name": "stdout",
     "output_type": "stream",
     "text": [
      "\n",
      "\n",
      "TotP(mmole/m3)\n",
      "(3638, 8, 16) (3638,) (215, 8, 16) (215,)\n",
      "number of input timesteps: 8\n",
      "number of features: 16\n",
      "number of samples: 103\n"
     ]
    },
    {
     "name": "stderr",
     "output_type": "stream",
     "text": [
      "\n",
      "A value is trying to be set on a copy of a slice from a DataFrame\n",
      "\n",
      "See the caveats in the documentation: https://pandas.pydata.org/pandas-docs/stable/user_guide/indexing.html#returning-a-view-versus-a-copy\n"
     ]
    },
    {
     "name": "stdout",
     "output_type": "stream",
     "text": [
      "\n",
      "\n",
      "Si(mmole/m3)\n",
      "(3638, 8, 16) (3638,) (215, 8, 16) (215,)\n",
      "number of input timesteps: 8\n",
      "number of features: 16\n",
      "number of samples: 103\n"
     ]
    },
    {
     "name": "stderr",
     "output_type": "stream",
     "text": [
      "\n",
      "A value is trying to be set on a copy of a slice from a DataFrame\n",
      "\n",
      "See the caveats in the documentation: https://pandas.pydata.org/pandas-docs/stable/user_guide/indexing.html#returning-a-view-versus-a-copy\n"
     ]
    },
    {
     "name": "stdout",
     "output_type": "stream",
     "text": [
      "\n",
      "\n",
      "Chl(mg/m3)\n",
      "(3638, 8, 19) (3638,) (215, 8, 19) (215,)\n",
      "number of input timesteps: 8\n",
      "number of features: 19\n",
      "number of samples: 103\n"
     ]
    },
    {
     "name": "stderr",
     "output_type": "stream",
     "text": [
      "\n",
      "A value is trying to be set on a copy of a slice from a DataFrame\n",
      "\n",
      "See the caveats in the documentation: https://pandas.pydata.org/pandas-docs/stable/user_guide/indexing.html#returning-a-view-versus-a-copy\n",
      "\n",
      "A value is trying to be set on a copy of a slice from a DataFrame\n",
      "\n",
      "See the caveats in the documentation: https://pandas.pydata.org/pandas-docs/stable/user_guide/indexing.html#returning-a-view-versus-a-copy\n"
     ]
    },
    {
     "name": "stdout",
     "output_type": "stream",
     "text": [
      "2011\n",
      "Model takes 19 min to run\n",
      "\n",
      "\n",
      "NOX(mmole/m3)\n",
      "(3649, 8, 13) (3649,) (204, 8, 13) (204,)\n",
      "number of input timesteps: 8\n",
      "number of features: 13\n",
      "number of samples: 103\n"
     ]
    },
    {
     "name": "stderr",
     "output_type": "stream",
     "text": [
      "\n",
      "A value is trying to be set on a copy of a slice from a DataFrame\n",
      "\n",
      "See the caveats in the documentation: https://pandas.pydata.org/pandas-docs/stable/user_guide/indexing.html#returning-a-view-versus-a-copy\n"
     ]
    },
    {
     "name": "stdout",
     "output_type": "stream",
     "text": [
      "\n",
      "\n",
      "O2(mmole/m3)\n",
      "(3649, 8, 13) (3649,) (204, 8, 13) (204,)\n",
      "number of input timesteps: 8\n",
      "number of features: 13\n",
      "number of samples: 103\n"
     ]
    },
    {
     "name": "stderr",
     "output_type": "stream",
     "text": [
      "\n",
      "A value is trying to be set on a copy of a slice from a DataFrame\n",
      "\n",
      "See the caveats in the documentation: https://pandas.pydata.org/pandas-docs/stable/user_guide/indexing.html#returning-a-view-versus-a-copy\n"
     ]
    },
    {
     "name": "stdout",
     "output_type": "stream",
     "text": [
      "\n",
      "\n",
      "NH4(mmole/m3)\n",
      "(3649, 8, 15) (3649,) (204, 8, 15) (204,)\n",
      "number of input timesteps: 8\n",
      "number of features: 15\n",
      "number of samples: 103\n"
     ]
    },
    {
     "name": "stderr",
     "output_type": "stream",
     "text": [
      "\n",
      "A value is trying to be set on a copy of a slice from a DataFrame\n",
      "\n",
      "See the caveats in the documentation: https://pandas.pydata.org/pandas-docs/stable/user_guide/indexing.html#returning-a-view-versus-a-copy\n"
     ]
    },
    {
     "name": "stdout",
     "output_type": "stream",
     "text": [
      "\n",
      "\n",
      "PO4(mmole/m3)\n",
      "(3649, 8, 15) (3649,) (204, 8, 15) (204,)\n",
      "number of input timesteps: 8\n",
      "number of features: 15\n",
      "number of samples: 103\n"
     ]
    },
    {
     "name": "stderr",
     "output_type": "stream",
     "text": [
      "\n",
      "A value is trying to be set on a copy of a slice from a DataFrame\n",
      "\n",
      "See the caveats in the documentation: https://pandas.pydata.org/pandas-docs/stable/user_guide/indexing.html#returning-a-view-versus-a-copy\n"
     ]
    },
    {
     "name": "stdout",
     "output_type": "stream",
     "text": [
      "\n",
      "\n",
      "TotP(mmole/m3)\n",
      "(3649, 8, 16) (3649,) (204, 8, 16) (204,)\n",
      "number of input timesteps: 8\n",
      "number of features: 16\n",
      "number of samples: 103\n"
     ]
    },
    {
     "name": "stderr",
     "output_type": "stream",
     "text": [
      "\n",
      "A value is trying to be set on a copy of a slice from a DataFrame\n",
      "\n",
      "See the caveats in the documentation: https://pandas.pydata.org/pandas-docs/stable/user_guide/indexing.html#returning-a-view-versus-a-copy\n"
     ]
    },
    {
     "name": "stdout",
     "output_type": "stream",
     "text": [
      "\n",
      "\n",
      "Si(mmole/m3)\n",
      "(3649, 8, 16) (3649,) (204, 8, 16) (204,)\n",
      "number of input timesteps: 8\n",
      "number of features: 16\n",
      "number of samples: 103\n"
     ]
    },
    {
     "name": "stderr",
     "output_type": "stream",
     "text": [
      "\n",
      "A value is trying to be set on a copy of a slice from a DataFrame\n",
      "\n",
      "See the caveats in the documentation: https://pandas.pydata.org/pandas-docs/stable/user_guide/indexing.html#returning-a-view-versus-a-copy\n"
     ]
    },
    {
     "name": "stdout",
     "output_type": "stream",
     "text": [
      "\n",
      "\n",
      "Chl(mg/m3)\n",
      "(3649, 8, 19) (3649,) (204, 8, 19) (204,)\n",
      "number of input timesteps: 8\n",
      "number of features: 19\n",
      "number of samples: 103\n"
     ]
    },
    {
     "name": "stderr",
     "output_type": "stream",
     "text": [
      "\n",
      "A value is trying to be set on a copy of a slice from a DataFrame\n",
      "\n",
      "See the caveats in the documentation: https://pandas.pydata.org/pandas-docs/stable/user_guide/indexing.html#returning-a-view-versus-a-copy\n",
      "\n",
      "A value is trying to be set on a copy of a slice from a DataFrame\n",
      "\n",
      "See the caveats in the documentation: https://pandas.pydata.org/pandas-docs/stable/user_guide/indexing.html#returning-a-view-versus-a-copy\n"
     ]
    },
    {
     "name": "stdout",
     "output_type": "stream",
     "text": [
      "2012\n",
      "Model takes 20 min to run\n",
      "\n",
      "\n",
      "NOX(mmole/m3)\n",
      "(3637, 8, 13) (3637,) (216, 8, 13) (216,)\n",
      "number of input timesteps: 8\n",
      "number of features: 13\n",
      "number of samples: 104\n"
     ]
    },
    {
     "name": "stderr",
     "output_type": "stream",
     "text": [
      "\n",
      "A value is trying to be set on a copy of a slice from a DataFrame\n",
      "\n",
      "See the caveats in the documentation: https://pandas.pydata.org/pandas-docs/stable/user_guide/indexing.html#returning-a-view-versus-a-copy\n"
     ]
    },
    {
     "name": "stdout",
     "output_type": "stream",
     "text": [
      "\n",
      "\n",
      "O2(mmole/m3)\n",
      "(3637, 8, 13) (3637,) (216, 8, 13) (216,)\n",
      "number of input timesteps: 8\n",
      "number of features: 13\n",
      "number of samples: 104\n"
     ]
    },
    {
     "name": "stderr",
     "output_type": "stream",
     "text": [
      "\n",
      "A value is trying to be set on a copy of a slice from a DataFrame\n",
      "\n",
      "See the caveats in the documentation: https://pandas.pydata.org/pandas-docs/stable/user_guide/indexing.html#returning-a-view-versus-a-copy\n"
     ]
    },
    {
     "name": "stdout",
     "output_type": "stream",
     "text": [
      "\n",
      "\n",
      "NH4(mmole/m3)\n",
      "(3637, 8, 15) (3637,) (216, 8, 15) (216,)\n",
      "number of input timesteps: 8\n",
      "number of features: 15\n",
      "number of samples: 104\n"
     ]
    },
    {
     "name": "stderr",
     "output_type": "stream",
     "text": [
      "\n",
      "A value is trying to be set on a copy of a slice from a DataFrame\n",
      "\n",
      "See the caveats in the documentation: https://pandas.pydata.org/pandas-docs/stable/user_guide/indexing.html#returning-a-view-versus-a-copy\n"
     ]
    },
    {
     "name": "stdout",
     "output_type": "stream",
     "text": [
      "\n",
      "\n",
      "PO4(mmole/m3)\n",
      "(3637, 8, 15) (3637,) (216, 8, 15) (216,)\n",
      "number of input timesteps: 8\n",
      "number of features: 15\n",
      "number of samples: 104\n"
     ]
    },
    {
     "name": "stderr",
     "output_type": "stream",
     "text": [
      "\n",
      "A value is trying to be set on a copy of a slice from a DataFrame\n",
      "\n",
      "See the caveats in the documentation: https://pandas.pydata.org/pandas-docs/stable/user_guide/indexing.html#returning-a-view-versus-a-copy\n"
     ]
    },
    {
     "name": "stdout",
     "output_type": "stream",
     "text": [
      "\n",
      "\n",
      "TotP(mmole/m3)\n",
      "(3637, 8, 16) (3637,) (216, 8, 16) (216,)\n",
      "number of input timesteps: 8\n",
      "number of features: 16\n",
      "number of samples: 104\n"
     ]
    },
    {
     "name": "stderr",
     "output_type": "stream",
     "text": [
      "\n",
      "A value is trying to be set on a copy of a slice from a DataFrame\n",
      "\n",
      "See the caveats in the documentation: https://pandas.pydata.org/pandas-docs/stable/user_guide/indexing.html#returning-a-view-versus-a-copy\n"
     ]
    },
    {
     "name": "stdout",
     "output_type": "stream",
     "text": [
      "\n",
      "\n",
      "Si(mmole/m3)\n",
      "(3637, 8, 16) (3637,) (216, 8, 16) (216,)\n",
      "number of input timesteps: 8\n",
      "number of features: 16\n",
      "number of samples: 104\n"
     ]
    },
    {
     "name": "stderr",
     "output_type": "stream",
     "text": [
      "\n",
      "A value is trying to be set on a copy of a slice from a DataFrame\n",
      "\n",
      "See the caveats in the documentation: https://pandas.pydata.org/pandas-docs/stable/user_guide/indexing.html#returning-a-view-versus-a-copy\n"
     ]
    },
    {
     "name": "stdout",
     "output_type": "stream",
     "text": [
      "\n",
      "\n",
      "Chl(mg/m3)\n",
      "(3637, 8, 19) (3637,) (216, 8, 19) (216,)\n",
      "number of input timesteps: 8\n",
      "number of features: 19\n",
      "number of samples: 104\n"
     ]
    },
    {
     "name": "stderr",
     "output_type": "stream",
     "text": [
      "\n",
      "A value is trying to be set on a copy of a slice from a DataFrame\n",
      "\n",
      "See the caveats in the documentation: https://pandas.pydata.org/pandas-docs/stable/user_guide/indexing.html#returning-a-view-versus-a-copy\n",
      "\n",
      "A value is trying to be set on a copy of a slice from a DataFrame\n",
      "\n",
      "See the caveats in the documentation: https://pandas.pydata.org/pandas-docs/stable/user_guide/indexing.html#returning-a-view-versus-a-copy\n"
     ]
    },
    {
     "name": "stdout",
     "output_type": "stream",
     "text": [
      "2013\n",
      "Model takes 16 min to run\n",
      "\n",
      "\n",
      "NOX(mmole/m3)\n",
      "(3642, 8, 13) (3642,) (211, 8, 13) (211,)\n",
      "number of input timesteps: 8\n",
      "number of features: 13\n",
      "number of samples: 104\n"
     ]
    },
    {
     "name": "stderr",
     "output_type": "stream",
     "text": [
      "\n",
      "A value is trying to be set on a copy of a slice from a DataFrame\n",
      "\n",
      "See the caveats in the documentation: https://pandas.pydata.org/pandas-docs/stable/user_guide/indexing.html#returning-a-view-versus-a-copy\n"
     ]
    },
    {
     "name": "stdout",
     "output_type": "stream",
     "text": [
      "\n",
      "\n",
      "O2(mmole/m3)\n",
      "(3642, 8, 13) (3642,) (211, 8, 13) (211,)\n",
      "number of input timesteps: 8\n",
      "number of features: 13\n",
      "number of samples: 104\n"
     ]
    },
    {
     "name": "stderr",
     "output_type": "stream",
     "text": [
      "\n",
      "A value is trying to be set on a copy of a slice from a DataFrame\n",
      "\n",
      "See the caveats in the documentation: https://pandas.pydata.org/pandas-docs/stable/user_guide/indexing.html#returning-a-view-versus-a-copy\n"
     ]
    },
    {
     "name": "stdout",
     "output_type": "stream",
     "text": [
      "\n",
      "\n",
      "NH4(mmole/m3)\n",
      "(3642, 8, 15) (3642,) (211, 8, 15) (211,)\n",
      "number of input timesteps: 8\n",
      "number of features: 15\n",
      "number of samples: 104\n"
     ]
    },
    {
     "name": "stderr",
     "output_type": "stream",
     "text": [
      "\n",
      "A value is trying to be set on a copy of a slice from a DataFrame\n",
      "\n",
      "See the caveats in the documentation: https://pandas.pydata.org/pandas-docs/stable/user_guide/indexing.html#returning-a-view-versus-a-copy\n"
     ]
    },
    {
     "name": "stdout",
     "output_type": "stream",
     "text": [
      "\n",
      "\n",
      "PO4(mmole/m3)\n",
      "(3642, 8, 15) (3642,) (211, 8, 15) (211,)\n",
      "number of input timesteps: 8\n",
      "number of features: 15\n",
      "number of samples: 104\n"
     ]
    },
    {
     "name": "stderr",
     "output_type": "stream",
     "text": [
      "\n",
      "A value is trying to be set on a copy of a slice from a DataFrame\n",
      "\n",
      "See the caveats in the documentation: https://pandas.pydata.org/pandas-docs/stable/user_guide/indexing.html#returning-a-view-versus-a-copy\n"
     ]
    },
    {
     "name": "stdout",
     "output_type": "stream",
     "text": [
      "\n",
      "\n",
      "TotP(mmole/m3)\n",
      "(3642, 8, 16) (3642,) (211, 8, 16) (211,)\n",
      "number of input timesteps: 8\n",
      "number of features: 16\n",
      "number of samples: 104\n"
     ]
    },
    {
     "name": "stderr",
     "output_type": "stream",
     "text": [
      "\n",
      "A value is trying to be set on a copy of a slice from a DataFrame\n",
      "\n",
      "See the caveats in the documentation: https://pandas.pydata.org/pandas-docs/stable/user_guide/indexing.html#returning-a-view-versus-a-copy\n"
     ]
    },
    {
     "name": "stdout",
     "output_type": "stream",
     "text": [
      "\n",
      "\n",
      "Si(mmole/m3)\n",
      "(3642, 8, 16) (3642,) (211, 8, 16) (211,)\n",
      "number of input timesteps: 8\n",
      "number of features: 16\n",
      "number of samples: 104\n"
     ]
    },
    {
     "name": "stderr",
     "output_type": "stream",
     "text": [
      "\n",
      "A value is trying to be set on a copy of a slice from a DataFrame\n",
      "\n",
      "See the caveats in the documentation: https://pandas.pydata.org/pandas-docs/stable/user_guide/indexing.html#returning-a-view-versus-a-copy\n"
     ]
    },
    {
     "name": "stdout",
     "output_type": "stream",
     "text": [
      "\n",
      "\n",
      "Chl(mg/m3)\n",
      "(3642, 8, 19) (3642,) (211, 8, 19) (211,)\n",
      "number of input timesteps: 8\n",
      "number of features: 19\n",
      "number of samples: 104\n"
     ]
    },
    {
     "name": "stderr",
     "output_type": "stream",
     "text": [
      "\n",
      "A value is trying to be set on a copy of a slice from a DataFrame\n",
      "\n",
      "See the caveats in the documentation: https://pandas.pydata.org/pandas-docs/stable/user_guide/indexing.html#returning-a-view-versus-a-copy\n",
      "\n",
      "A value is trying to be set on a copy of a slice from a DataFrame\n",
      "\n",
      "See the caveats in the documentation: https://pandas.pydata.org/pandas-docs/stable/user_guide/indexing.html#returning-a-view-versus-a-copy\n"
     ]
    },
    {
     "name": "stdout",
     "output_type": "stream",
     "text": [
      "2014\n",
      "Model takes 15 min to run\n",
      "\n",
      "\n",
      "NOX(mmole/m3)\n",
      "(3624, 8, 13) (3624,) (244, 8, 13) (244,)\n",
      "number of input timesteps: 8\n",
      "number of features: 13\n",
      "number of samples: 104\n"
     ]
    },
    {
     "name": "stderr",
     "output_type": "stream",
     "text": [
      "\n",
      "A value is trying to be set on a copy of a slice from a DataFrame\n",
      "\n",
      "See the caveats in the documentation: https://pandas.pydata.org/pandas-docs/stable/user_guide/indexing.html#returning-a-view-versus-a-copy\n"
     ]
    },
    {
     "name": "stdout",
     "output_type": "stream",
     "text": [
      "\n",
      "\n",
      "O2(mmole/m3)\n",
      "(3624, 8, 13) (3624,) (244, 8, 13) (244,)\n",
      "number of input timesteps: 8\n",
      "number of features: 13\n",
      "number of samples: 104\n"
     ]
    },
    {
     "name": "stderr",
     "output_type": "stream",
     "text": [
      "\n",
      "A value is trying to be set on a copy of a slice from a DataFrame\n",
      "\n",
      "See the caveats in the documentation: https://pandas.pydata.org/pandas-docs/stable/user_guide/indexing.html#returning-a-view-versus-a-copy\n"
     ]
    },
    {
     "name": "stdout",
     "output_type": "stream",
     "text": [
      "\n",
      "\n",
      "NH4(mmole/m3)\n",
      "(3624, 8, 15) (3624,) (244, 8, 15) (244,)\n",
      "number of input timesteps: 8\n",
      "number of features: 15\n",
      "number of samples: 104\n"
     ]
    },
    {
     "name": "stderr",
     "output_type": "stream",
     "text": [
      "\n",
      "A value is trying to be set on a copy of a slice from a DataFrame\n",
      "\n",
      "See the caveats in the documentation: https://pandas.pydata.org/pandas-docs/stable/user_guide/indexing.html#returning-a-view-versus-a-copy\n"
     ]
    },
    {
     "name": "stdout",
     "output_type": "stream",
     "text": [
      "\n",
      "\n",
      "PO4(mmole/m3)\n",
      "(3624, 8, 15) (3624,) (244, 8, 15) (244,)\n",
      "number of input timesteps: 8\n",
      "number of features: 15\n",
      "number of samples: 104\n"
     ]
    },
    {
     "name": "stderr",
     "output_type": "stream",
     "text": [
      "\n",
      "A value is trying to be set on a copy of a slice from a DataFrame\n",
      "\n",
      "See the caveats in the documentation: https://pandas.pydata.org/pandas-docs/stable/user_guide/indexing.html#returning-a-view-versus-a-copy\n"
     ]
    },
    {
     "name": "stdout",
     "output_type": "stream",
     "text": [
      "\n",
      "\n",
      "TotP(mmole/m3)\n",
      "(3624, 8, 16) (3624,) (244, 8, 16) (244,)\n",
      "number of input timesteps: 8\n",
      "number of features: 16\n",
      "number of samples: 104\n"
     ]
    },
    {
     "name": "stderr",
     "output_type": "stream",
     "text": [
      "\n",
      "A value is trying to be set on a copy of a slice from a DataFrame\n",
      "\n",
      "See the caveats in the documentation: https://pandas.pydata.org/pandas-docs/stable/user_guide/indexing.html#returning-a-view-versus-a-copy\n"
     ]
    },
    {
     "name": "stdout",
     "output_type": "stream",
     "text": [
      "\n",
      "\n",
      "Si(mmole/m3)\n",
      "(3624, 8, 16) (3624,) (244, 8, 16) (244,)\n",
      "number of input timesteps: 8\n",
      "number of features: 16\n",
      "number of samples: 104\n"
     ]
    },
    {
     "name": "stderr",
     "output_type": "stream",
     "text": [
      "\n",
      "A value is trying to be set on a copy of a slice from a DataFrame\n",
      "\n",
      "See the caveats in the documentation: https://pandas.pydata.org/pandas-docs/stable/user_guide/indexing.html#returning-a-view-versus-a-copy\n"
     ]
    },
    {
     "name": "stdout",
     "output_type": "stream",
     "text": [
      "\n",
      "\n",
      "Chl(mg/m3)\n",
      "(3624, 8, 19) (3624,) (244, 8, 19) (244,)\n",
      "number of input timesteps: 8\n",
      "number of features: 19\n",
      "number of samples: 104\n"
     ]
    },
    {
     "name": "stderr",
     "output_type": "stream",
     "text": [
      "\n",
      "A value is trying to be set on a copy of a slice from a DataFrame\n",
      "\n",
      "See the caveats in the documentation: https://pandas.pydata.org/pandas-docs/stable/user_guide/indexing.html#returning-a-view-versus-a-copy\n",
      "\n",
      "A value is trying to be set on a copy of a slice from a DataFrame\n",
      "\n",
      "See the caveats in the documentation: https://pandas.pydata.org/pandas-docs/stable/user_guide/indexing.html#returning-a-view-versus-a-copy\n"
     ]
    },
    {
     "name": "stdout",
     "output_type": "stream",
     "text": [
      "2015\n",
      "Model takes 15 min to run\n",
      "\n",
      "\n",
      "NOX(mmole/m3)\n",
      "(3634, 8, 13) (3634,) (236, 8, 13) (236,)\n",
      "number of input timesteps: 8\n",
      "number of features: 13\n",
      "number of samples: 103\n"
     ]
    },
    {
     "name": "stderr",
     "output_type": "stream",
     "text": [
      "\n",
      "A value is trying to be set on a copy of a slice from a DataFrame\n",
      "\n",
      "See the caveats in the documentation: https://pandas.pydata.org/pandas-docs/stable/user_guide/indexing.html#returning-a-view-versus-a-copy\n"
     ]
    },
    {
     "name": "stdout",
     "output_type": "stream",
     "text": [
      "\n",
      "\n",
      "O2(mmole/m3)\n",
      "(3634, 8, 13) (3634,) (236, 8, 13) (236,)\n",
      "number of input timesteps: 8\n",
      "number of features: 13\n",
      "number of samples: 103\n"
     ]
    },
    {
     "name": "stderr",
     "output_type": "stream",
     "text": [
      "\n",
      "A value is trying to be set on a copy of a slice from a DataFrame\n",
      "\n",
      "See the caveats in the documentation: https://pandas.pydata.org/pandas-docs/stable/user_guide/indexing.html#returning-a-view-versus-a-copy\n"
     ]
    },
    {
     "name": "stdout",
     "output_type": "stream",
     "text": [
      "\n",
      "\n",
      "NH4(mmole/m3)\n",
      "(3634, 8, 15) (3634,) (236, 8, 15) (236,)\n",
      "number of input timesteps: 8\n",
      "number of features: 15\n",
      "number of samples: 103\n"
     ]
    },
    {
     "name": "stderr",
     "output_type": "stream",
     "text": [
      "\n",
      "A value is trying to be set on a copy of a slice from a DataFrame\n",
      "\n",
      "See the caveats in the documentation: https://pandas.pydata.org/pandas-docs/stable/user_guide/indexing.html#returning-a-view-versus-a-copy\n"
     ]
    },
    {
     "name": "stdout",
     "output_type": "stream",
     "text": [
      "\n",
      "\n",
      "PO4(mmole/m3)\n",
      "(3634, 8, 15) (3634,) (236, 8, 15) (236,)\n",
      "number of input timesteps: 8\n",
      "number of features: 15\n",
      "number of samples: 103\n"
     ]
    },
    {
     "name": "stderr",
     "output_type": "stream",
     "text": [
      "\n",
      "A value is trying to be set on a copy of a slice from a DataFrame\n",
      "\n",
      "See the caveats in the documentation: https://pandas.pydata.org/pandas-docs/stable/user_guide/indexing.html#returning-a-view-versus-a-copy\n"
     ]
    },
    {
     "name": "stdout",
     "output_type": "stream",
     "text": [
      "\n",
      "\n",
      "TotP(mmole/m3)\n",
      "(3634, 8, 16) (3634,) (236, 8, 16) (236,)\n",
      "number of input timesteps: 8\n",
      "number of features: 16\n",
      "number of samples: 103\n"
     ]
    },
    {
     "name": "stderr",
     "output_type": "stream",
     "text": [
      "\n",
      "A value is trying to be set on a copy of a slice from a DataFrame\n",
      "\n",
      "See the caveats in the documentation: https://pandas.pydata.org/pandas-docs/stable/user_guide/indexing.html#returning-a-view-versus-a-copy\n"
     ]
    },
    {
     "name": "stdout",
     "output_type": "stream",
     "text": [
      "\n",
      "\n",
      "Si(mmole/m3)\n",
      "(3634, 8, 16) (3634,) (236, 8, 16) (236,)\n",
      "number of input timesteps: 8\n",
      "number of features: 16\n",
      "number of samples: 103\n"
     ]
    },
    {
     "name": "stderr",
     "output_type": "stream",
     "text": [
      "\n",
      "A value is trying to be set on a copy of a slice from a DataFrame\n",
      "\n",
      "See the caveats in the documentation: https://pandas.pydata.org/pandas-docs/stable/user_guide/indexing.html#returning-a-view-versus-a-copy\n"
     ]
    },
    {
     "name": "stdout",
     "output_type": "stream",
     "text": [
      "\n",
      "\n",
      "Chl(mg/m3)\n",
      "(3634, 8, 19) (3634,) (236, 8, 19) (236,)\n",
      "number of input timesteps: 8\n",
      "number of features: 19\n",
      "number of samples: 103\n"
     ]
    },
    {
     "name": "stderr",
     "output_type": "stream",
     "text": [
      "\n",
      "A value is trying to be set on a copy of a slice from a DataFrame\n",
      "\n",
      "See the caveats in the documentation: https://pandas.pydata.org/pandas-docs/stable/user_guide/indexing.html#returning-a-view-versus-a-copy\n",
      "\n",
      "A value is trying to be set on a copy of a slice from a DataFrame\n",
      "\n",
      "See the caveats in the documentation: https://pandas.pydata.org/pandas-docs/stable/user_guide/indexing.html#returning-a-view-versus-a-copy\n"
     ]
    },
    {
     "name": "stdout",
     "output_type": "stream",
     "text": [
      "2016\n",
      "Model takes 15 min to run\n",
      "\n",
      "\n",
      "NOX(mmole/m3)\n",
      "(3616, 8, 13) (3616,) (237, 8, 13) (237,)\n",
      "number of input timesteps: 8\n",
      "number of features: 13\n",
      "number of samples: 103\n"
     ]
    },
    {
     "name": "stderr",
     "output_type": "stream",
     "text": [
      "\n",
      "A value is trying to be set on a copy of a slice from a DataFrame\n",
      "\n",
      "See the caveats in the documentation: https://pandas.pydata.org/pandas-docs/stable/user_guide/indexing.html#returning-a-view-versus-a-copy\n"
     ]
    },
    {
     "name": "stdout",
     "output_type": "stream",
     "text": [
      "\n",
      "\n",
      "O2(mmole/m3)\n",
      "(3616, 8, 13) (3616,) (237, 8, 13) (237,)\n",
      "number of input timesteps: 8\n",
      "number of features: 13\n",
      "number of samples: 103\n"
     ]
    },
    {
     "name": "stderr",
     "output_type": "stream",
     "text": [
      "\n",
      "A value is trying to be set on a copy of a slice from a DataFrame\n",
      "\n",
      "See the caveats in the documentation: https://pandas.pydata.org/pandas-docs/stable/user_guide/indexing.html#returning-a-view-versus-a-copy\n"
     ]
    },
    {
     "name": "stdout",
     "output_type": "stream",
     "text": [
      "\n",
      "\n",
      "NH4(mmole/m3)\n",
      "(3616, 8, 15) (3616,) (237, 8, 15) (237,)\n",
      "number of input timesteps: 8\n",
      "number of features: 15\n",
      "number of samples: 103\n"
     ]
    },
    {
     "name": "stderr",
     "output_type": "stream",
     "text": [
      "\n",
      "A value is trying to be set on a copy of a slice from a DataFrame\n",
      "\n",
      "See the caveats in the documentation: https://pandas.pydata.org/pandas-docs/stable/user_guide/indexing.html#returning-a-view-versus-a-copy\n"
     ]
    },
    {
     "name": "stdout",
     "output_type": "stream",
     "text": [
      "\n",
      "\n",
      "PO4(mmole/m3)\n",
      "(3616, 8, 15) (3616,) (237, 8, 15) (237,)\n",
      "number of input timesteps: 8\n",
      "number of features: 15\n",
      "number of samples: 103\n"
     ]
    },
    {
     "name": "stderr",
     "output_type": "stream",
     "text": [
      "\n",
      "A value is trying to be set on a copy of a slice from a DataFrame\n",
      "\n",
      "See the caveats in the documentation: https://pandas.pydata.org/pandas-docs/stable/user_guide/indexing.html#returning-a-view-versus-a-copy\n"
     ]
    },
    {
     "name": "stdout",
     "output_type": "stream",
     "text": [
      "\n",
      "\n",
      "TotP(mmole/m3)\n",
      "(3616, 8, 16) (3616,) (237, 8, 16) (237,)\n",
      "number of input timesteps: 8\n",
      "number of features: 16\n",
      "number of samples: 103\n"
     ]
    },
    {
     "name": "stderr",
     "output_type": "stream",
     "text": [
      "\n",
      "A value is trying to be set on a copy of a slice from a DataFrame\n",
      "\n",
      "See the caveats in the documentation: https://pandas.pydata.org/pandas-docs/stable/user_guide/indexing.html#returning-a-view-versus-a-copy\n"
     ]
    },
    {
     "name": "stdout",
     "output_type": "stream",
     "text": [
      "\n",
      "\n",
      "Si(mmole/m3)\n",
      "(3616, 8, 16) (3616,) (237, 8, 16) (237,)\n",
      "number of input timesteps: 8\n",
      "number of features: 16\n",
      "number of samples: 103\n"
     ]
    },
    {
     "name": "stderr",
     "output_type": "stream",
     "text": [
      "\n",
      "A value is trying to be set on a copy of a slice from a DataFrame\n",
      "\n",
      "See the caveats in the documentation: https://pandas.pydata.org/pandas-docs/stable/user_guide/indexing.html#returning-a-view-versus-a-copy\n"
     ]
    },
    {
     "name": "stdout",
     "output_type": "stream",
     "text": [
      "\n",
      "\n",
      "Chl(mg/m3)\n",
      "(3616, 8, 19) (3616,) (237, 8, 19) (237,)\n",
      "number of input timesteps: 8\n",
      "number of features: 19\n",
      "number of samples: 103\n"
     ]
    },
    {
     "name": "stderr",
     "output_type": "stream",
     "text": [
      "\n",
      "A value is trying to be set on a copy of a slice from a DataFrame\n",
      "\n",
      "See the caveats in the documentation: https://pandas.pydata.org/pandas-docs/stable/user_guide/indexing.html#returning-a-view-versus-a-copy\n",
      "\n",
      "A value is trying to be set on a copy of a slice from a DataFrame\n",
      "\n",
      "See the caveats in the documentation: https://pandas.pydata.org/pandas-docs/stable/user_guide/indexing.html#returning-a-view-versus-a-copy\n"
     ]
    },
    {
     "name": "stdout",
     "output_type": "stream",
     "text": [
      "2017\n",
      "Model takes 16 min to run\n",
      "\n",
      "\n",
      "NOX(mmole/m3)\n",
      "(3628, 8, 13) (3628,) (225, 8, 13) (225,)\n",
      "number of input timesteps: 8\n",
      "number of features: 13\n",
      "number of samples: 104\n"
     ]
    },
    {
     "name": "stderr",
     "output_type": "stream",
     "text": [
      "\n",
      "A value is trying to be set on a copy of a slice from a DataFrame\n",
      "\n",
      "See the caveats in the documentation: https://pandas.pydata.org/pandas-docs/stable/user_guide/indexing.html#returning-a-view-versus-a-copy\n"
     ]
    },
    {
     "name": "stdout",
     "output_type": "stream",
     "text": [
      "\n",
      "\n",
      "O2(mmole/m3)\n",
      "(3628, 8, 13) (3628,) (225, 8, 13) (225,)\n",
      "number of input timesteps: 8\n",
      "number of features: 13\n",
      "number of samples: 104\n"
     ]
    },
    {
     "name": "stderr",
     "output_type": "stream",
     "text": [
      "\n",
      "A value is trying to be set on a copy of a slice from a DataFrame\n",
      "\n",
      "See the caveats in the documentation: https://pandas.pydata.org/pandas-docs/stable/user_guide/indexing.html#returning-a-view-versus-a-copy\n"
     ]
    },
    {
     "name": "stdout",
     "output_type": "stream",
     "text": [
      "\n",
      "\n",
      "NH4(mmole/m3)\n",
      "(3628, 8, 15) (3628,) (225, 8, 15) (225,)\n",
      "number of input timesteps: 8\n",
      "number of features: 15\n",
      "number of samples: 104\n"
     ]
    },
    {
     "name": "stderr",
     "output_type": "stream",
     "text": [
      "\n",
      "A value is trying to be set on a copy of a slice from a DataFrame\n",
      "\n",
      "See the caveats in the documentation: https://pandas.pydata.org/pandas-docs/stable/user_guide/indexing.html#returning-a-view-versus-a-copy\n"
     ]
    },
    {
     "name": "stdout",
     "output_type": "stream",
     "text": [
      "\n",
      "\n",
      "PO4(mmole/m3)\n",
      "(3628, 8, 15) (3628,) (225, 8, 15) (225,)\n",
      "number of input timesteps: 8\n",
      "number of features: 15\n",
      "number of samples: 104\n"
     ]
    },
    {
     "name": "stderr",
     "output_type": "stream",
     "text": [
      "\n",
      "A value is trying to be set on a copy of a slice from a DataFrame\n",
      "\n",
      "See the caveats in the documentation: https://pandas.pydata.org/pandas-docs/stable/user_guide/indexing.html#returning-a-view-versus-a-copy\n"
     ]
    },
    {
     "name": "stdout",
     "output_type": "stream",
     "text": [
      "\n",
      "\n",
      "TotP(mmole/m3)\n",
      "(3628, 8, 16) (3628,) (225, 8, 16) (225,)\n",
      "number of input timesteps: 8\n",
      "number of features: 16\n",
      "number of samples: 104\n"
     ]
    },
    {
     "name": "stderr",
     "output_type": "stream",
     "text": [
      "\n",
      "A value is trying to be set on a copy of a slice from a DataFrame\n",
      "\n",
      "See the caveats in the documentation: https://pandas.pydata.org/pandas-docs/stable/user_guide/indexing.html#returning-a-view-versus-a-copy\n"
     ]
    },
    {
     "name": "stdout",
     "output_type": "stream",
     "text": [
      "\n",
      "\n",
      "Si(mmole/m3)\n",
      "(3628, 8, 16) (3628,) (225, 8, 16) (225,)\n",
      "number of input timesteps: 8\n",
      "number of features: 16\n",
      "number of samples: 104\n"
     ]
    },
    {
     "name": "stderr",
     "output_type": "stream",
     "text": [
      "\n",
      "A value is trying to be set on a copy of a slice from a DataFrame\n",
      "\n",
      "See the caveats in the documentation: https://pandas.pydata.org/pandas-docs/stable/user_guide/indexing.html#returning-a-view-versus-a-copy\n"
     ]
    },
    {
     "name": "stdout",
     "output_type": "stream",
     "text": [
      "\n",
      "\n",
      "Chl(mg/m3)\n",
      "(3628, 8, 19) (3628,) (225, 8, 19) (225,)\n",
      "number of input timesteps: 8\n",
      "number of features: 19\n",
      "number of samples: 104\n"
     ]
    },
    {
     "name": "stderr",
     "output_type": "stream",
     "text": [
      "\n",
      "A value is trying to be set on a copy of a slice from a DataFrame\n",
      "\n",
      "See the caveats in the documentation: https://pandas.pydata.org/pandas-docs/stable/user_guide/indexing.html#returning-a-view-versus-a-copy\n",
      "\n",
      "A value is trying to be set on a copy of a slice from a DataFrame\n",
      "\n",
      "See the caveats in the documentation: https://pandas.pydata.org/pandas-docs/stable/user_guide/indexing.html#returning-a-view-versus-a-copy\n"
     ]
    },
    {
     "name": "stdout",
     "output_type": "stream",
     "text": [
      "2018\n",
      "Model takes 15 min to run\n",
      "\n",
      "\n",
      "NOX(mmole/m3)\n",
      "(3617, 8, 13) (3617,) (236, 8, 13) (236,)\n",
      "number of input timesteps: 8\n",
      "number of features: 13\n",
      "number of samples: 103\n"
     ]
    },
    {
     "name": "stderr",
     "output_type": "stream",
     "text": [
      "\n",
      "A value is trying to be set on a copy of a slice from a DataFrame\n",
      "\n",
      "See the caveats in the documentation: https://pandas.pydata.org/pandas-docs/stable/user_guide/indexing.html#returning-a-view-versus-a-copy\n"
     ]
    },
    {
     "name": "stdout",
     "output_type": "stream",
     "text": [
      "\n",
      "\n",
      "O2(mmole/m3)\n",
      "(3617, 8, 13) (3617,) (236, 8, 13) (236,)\n",
      "number of input timesteps: 8\n",
      "number of features: 13\n",
      "number of samples: 103\n"
     ]
    },
    {
     "name": "stderr",
     "output_type": "stream",
     "text": [
      "\n",
      "A value is trying to be set on a copy of a slice from a DataFrame\n",
      "\n",
      "See the caveats in the documentation: https://pandas.pydata.org/pandas-docs/stable/user_guide/indexing.html#returning-a-view-versus-a-copy\n"
     ]
    },
    {
     "name": "stdout",
     "output_type": "stream",
     "text": [
      "\n",
      "\n",
      "NH4(mmole/m3)\n",
      "(3617, 8, 15) (3617,) (236, 8, 15) (236,)\n",
      "number of input timesteps: 8\n",
      "number of features: 15\n",
      "number of samples: 103\n"
     ]
    },
    {
     "name": "stderr",
     "output_type": "stream",
     "text": [
      "\n",
      "A value is trying to be set on a copy of a slice from a DataFrame\n",
      "\n",
      "See the caveats in the documentation: https://pandas.pydata.org/pandas-docs/stable/user_guide/indexing.html#returning-a-view-versus-a-copy\n"
     ]
    },
    {
     "name": "stdout",
     "output_type": "stream",
     "text": [
      "\n",
      "\n",
      "PO4(mmole/m3)\n",
      "(3617, 8, 15) (3617,) (236, 8, 15) (236,)\n",
      "number of input timesteps: 8\n",
      "number of features: 15\n",
      "number of samples: 103\n"
     ]
    },
    {
     "name": "stderr",
     "output_type": "stream",
     "text": [
      "\n",
      "A value is trying to be set on a copy of a slice from a DataFrame\n",
      "\n",
      "See the caveats in the documentation: https://pandas.pydata.org/pandas-docs/stable/user_guide/indexing.html#returning-a-view-versus-a-copy\n"
     ]
    },
    {
     "name": "stdout",
     "output_type": "stream",
     "text": [
      "\n",
      "\n",
      "TotP(mmole/m3)\n",
      "(3617, 8, 16) (3617,) (236, 8, 16) (236,)\n",
      "number of input timesteps: 8\n",
      "number of features: 16\n",
      "number of samples: 103\n"
     ]
    },
    {
     "name": "stderr",
     "output_type": "stream",
     "text": [
      "\n",
      "A value is trying to be set on a copy of a slice from a DataFrame\n",
      "\n",
      "See the caveats in the documentation: https://pandas.pydata.org/pandas-docs/stable/user_guide/indexing.html#returning-a-view-versus-a-copy\n"
     ]
    },
    {
     "name": "stdout",
     "output_type": "stream",
     "text": [
      "\n",
      "\n",
      "Si(mmole/m3)\n",
      "(3617, 8, 16) (3617,) (236, 8, 16) (236,)\n",
      "number of input timesteps: 8\n",
      "number of features: 16\n",
      "number of samples: 103\n"
     ]
    },
    {
     "name": "stderr",
     "output_type": "stream",
     "text": [
      "\n",
      "A value is trying to be set on a copy of a slice from a DataFrame\n",
      "\n",
      "See the caveats in the documentation: https://pandas.pydata.org/pandas-docs/stable/user_guide/indexing.html#returning-a-view-versus-a-copy\n"
     ]
    },
    {
     "name": "stdout",
     "output_type": "stream",
     "text": [
      "\n",
      "\n",
      "Chl(mg/m3)\n",
      "(3617, 8, 19) (3617,) (236, 8, 19) (236,)\n",
      "number of input timesteps: 8\n",
      "number of features: 19\n",
      "number of samples: 103\n"
     ]
    },
    {
     "name": "stderr",
     "output_type": "stream",
     "text": [
      "\n",
      "A value is trying to be set on a copy of a slice from a DataFrame\n",
      "\n",
      "See the caveats in the documentation: https://pandas.pydata.org/pandas-docs/stable/user_guide/indexing.html#returning-a-view-versus-a-copy\n",
      "\n",
      "A value is trying to be set on a copy of a slice from a DataFrame\n",
      "\n",
      "See the caveats in the documentation: https://pandas.pydata.org/pandas-docs/stable/user_guide/indexing.html#returning-a-view-versus-a-copy\n"
     ]
    },
    {
     "name": "stdout",
     "output_type": "stream",
     "text": [
      "2019\n",
      "Model takes 16 min to run\n",
      "\n",
      "\n",
      "NOX(mmole/m3)\n",
      "(3616, 8, 13) (3616,) (237, 8, 13) (237,)\n",
      "number of input timesteps: 8\n",
      "number of features: 13\n",
      "number of samples: 103\n"
     ]
    },
    {
     "name": "stderr",
     "output_type": "stream",
     "text": [
      "\n",
      "A value is trying to be set on a copy of a slice from a DataFrame\n",
      "\n",
      "See the caveats in the documentation: https://pandas.pydata.org/pandas-docs/stable/user_guide/indexing.html#returning-a-view-versus-a-copy\n"
     ]
    },
    {
     "name": "stdout",
     "output_type": "stream",
     "text": [
      "\n",
      "\n",
      "O2(mmole/m3)\n",
      "(3616, 8, 13) (3616,) (237, 8, 13) (237,)\n",
      "number of input timesteps: 8\n",
      "number of features: 13\n",
      "number of samples: 103\n"
     ]
    },
    {
     "name": "stderr",
     "output_type": "stream",
     "text": [
      "\n",
      "A value is trying to be set on a copy of a slice from a DataFrame\n",
      "\n",
      "See the caveats in the documentation: https://pandas.pydata.org/pandas-docs/stable/user_guide/indexing.html#returning-a-view-versus-a-copy\n"
     ]
    },
    {
     "name": "stdout",
     "output_type": "stream",
     "text": [
      "\n",
      "\n",
      "NH4(mmole/m3)\n",
      "(3616, 8, 15) (3616,) (237, 8, 15) (237,)\n",
      "number of input timesteps: 8\n",
      "number of features: 15\n",
      "number of samples: 103\n"
     ]
    },
    {
     "name": "stderr",
     "output_type": "stream",
     "text": [
      "\n",
      "A value is trying to be set on a copy of a slice from a DataFrame\n",
      "\n",
      "See the caveats in the documentation: https://pandas.pydata.org/pandas-docs/stable/user_guide/indexing.html#returning-a-view-versus-a-copy\n"
     ]
    },
    {
     "name": "stdout",
     "output_type": "stream",
     "text": [
      "\n",
      "\n",
      "PO4(mmole/m3)\n",
      "(3616, 8, 15) (3616,) (237, 8, 15) (237,)\n",
      "number of input timesteps: 8\n",
      "number of features: 15\n",
      "number of samples: 103\n"
     ]
    },
    {
     "name": "stderr",
     "output_type": "stream",
     "text": [
      "\n",
      "A value is trying to be set on a copy of a slice from a DataFrame\n",
      "\n",
      "See the caveats in the documentation: https://pandas.pydata.org/pandas-docs/stable/user_guide/indexing.html#returning-a-view-versus-a-copy\n"
     ]
    },
    {
     "name": "stdout",
     "output_type": "stream",
     "text": [
      "\n",
      "\n",
      "TotP(mmole/m3)\n",
      "(3616, 8, 16) (3616,) (237, 8, 16) (237,)\n",
      "number of input timesteps: 8\n",
      "number of features: 16\n",
      "number of samples: 103\n"
     ]
    },
    {
     "name": "stderr",
     "output_type": "stream",
     "text": [
      "\n",
      "A value is trying to be set on a copy of a slice from a DataFrame\n",
      "\n",
      "See the caveats in the documentation: https://pandas.pydata.org/pandas-docs/stable/user_guide/indexing.html#returning-a-view-versus-a-copy\n"
     ]
    },
    {
     "name": "stdout",
     "output_type": "stream",
     "text": [
      "\n",
      "\n",
      "Si(mmole/m3)\n",
      "(3616, 8, 16) (3616,) (237, 8, 16) (237,)\n",
      "number of input timesteps: 8\n",
      "number of features: 16\n",
      "number of samples: 103\n"
     ]
    },
    {
     "name": "stderr",
     "output_type": "stream",
     "text": [
      "\n",
      "A value is trying to be set on a copy of a slice from a DataFrame\n",
      "\n",
      "See the caveats in the documentation: https://pandas.pydata.org/pandas-docs/stable/user_guide/indexing.html#returning-a-view-versus-a-copy\n"
     ]
    },
    {
     "name": "stdout",
     "output_type": "stream",
     "text": [
      "\n",
      "\n",
      "Chl(mg/m3)\n",
      "(3616, 8, 19) (3616,) (237, 8, 19) (237,)\n",
      "number of input timesteps: 8\n",
      "number of features: 19\n",
      "number of samples: 103\n",
      "2020\n",
      "Model takes 17 min to run\n",
      "\n",
      "\n"
     ]
    },
    {
     "name": "stderr",
     "output_type": "stream",
     "text": [
      "\n",
      "A value is trying to be set on a copy of a slice from a DataFrame\n",
      "\n",
      "See the caveats in the documentation: https://pandas.pydata.org/pandas-docs/stable/user_guide/indexing.html#returning-a-view-versus-a-copy\n"
     ]
    }
   ],
   "source": [
    "for i in range(len(year)):\n",
    "    start_time = time.time()\n",
    "    test_yr = year[i]\n",
    "    Nut_memory = resample(Nut,Erken_Met,35)\n",
    "    \n",
    "    # predict NOX\n",
    "    nutrient = 'NOX(mmole/m3)'\n",
    "    print(nutrient)\n",
    "    var_name = ['delT', 'Ice_d','days from iceoff', 'inflow(m3/s)','U', 'AirT', 'Humidity', 'CC','swr(w/m2)', \n",
    "                'Prec(mm/d)', 'MLD','W','thermD',nutrient] # removed 'month' and 'SST' \n",
    "    NOX_df,NOX_model,NOX_hat = predict_lstm(Nut_memory,test_yr,var_name,nutrient,hyperparameters)\n",
    "    # Compare the predictions with observations\n",
    "    NOX_RMSE,NOX_R2,Nut_memory = compare(NOX_df,Nut_memory,nutrient,NOX_RMSE,NOX_R2,NOX_hat)\n",
    "    Erken_NOX = pd.concat([Erken_NOX,NOX_df])\n",
    "    \n",
    "    ## use the trained model to interplate the whole timeseries\n",
    "    Nut_memory = predict_ts(Nut_memory,nutrient,NOX_model,var_name,hyperparameters)\n",
    "    \n",
    "    # predict O2\n",
    "    nutrient = 'O2(mmole/m3)'\n",
    "    print('\\n')\n",
    "    print(nutrient)\n",
    "    var_name = ['delT', 'Ice_d','days from iceoff', 'inflow(m3/s)','U', 'AirT', 'Humidity', 'CC','swr(w/m2)', \n",
    "                'Prec(mm/d)','MLD','W','thermD',nutrient] # removed 'month' and 'SST'\n",
    "    O2_df,O2_model,O2_hat = predict_lstm(Nut_memory,test_yr,var_name,nutrient,hyperparameters)\n",
    "    # Compare the predictions with observations\n",
    "    O2_RMSE,O2_R2,Nut_memory = compare(O2_df,Nut_memory,nutrient,O2_RMSE,O2_R2,O2_hat)\n",
    "    Erken_O2 = pd.concat([Erken_O2,O2_df])\n",
    "    ## use the trained model to interplate the whole timeseries\n",
    "    Nut_memory = predict_ts(Nut_memory,nutrient,O2_model,var_name,hyperparameters)\n",
    "    \n",
    "    # predict NH4\n",
    "    nutrient = 'NH4(mmole/m3)'\n",
    "    print('\\n')\n",
    "    print(nutrient)\n",
    "    var_name = ['delT', 'Ice_d','days from iceoff', 'inflow(m3/s)','U', 'AirT', 'Humidity', 'CC','swr(w/m2)', \n",
    "                'Prec(mm/d)','NOX(mmole/m3)','O2(mmole/m3)','MLD','W','thermD',nutrient] \n",
    "    NH4_df,NH4_model,NH4_hat = predict_lstm(Nut_memory,test_yr,var_name,nutrient,hyperparameters)\n",
    "    # Compare the predictions with observations\n",
    "    NH4_RMSE,NH4_R2,Nut_memory = compare(NH4_df,Nut_memory,nutrient,NH4_RMSE,NH4_R2,NH4_hat)\n",
    "    Erken_NH4 = pd.concat([Erken_NH4,NH4_df])\n",
    "    ## use the trained model to interplate the whole timeseries\n",
    "    Nut_memory = predict_ts(Nut_memory,nutrient,NH4_model,var_name,hyperparameters)\n",
    "    \n",
    "    # predict PO4\n",
    "    nutrient = 'PO4(mmole/m3)'\n",
    "    print('\\n')\n",
    "    print(nutrient)\n",
    "    var_name = ['delT', 'Ice_d','days from iceoff', 'inflow(m3/s)','U', 'AirT', 'Humidity', 'CC','swr(w/m2)', \n",
    "                'Prec(mm/d)','NOX(mmole/m3)','O2(mmole/m3)', 'MLD','W','thermD',nutrient] \n",
    "    PO4_df,PO4_model,PO4_hat = predict_lstm(Nut_memory,test_yr,var_name,nutrient,hyperparameters)\n",
    "    # Compare the predictions with observations\n",
    "    PO4_RMSE,PO4_R2,Nut_memory = compare(PO4_df,Nut_memory,nutrient,PO4_RMSE,PO4_R2,PO4_hat)\n",
    "    Erken_PO4 = pd.concat([Erken_PO4,PO4_df])\n",
    "     ## use the trained model to interplate the whole timeseries\n",
    "    Nut_memory = predict_ts(Nut_memory,nutrient,PO4_model,var_name,hyperparameters)\n",
    "   \n",
    "    # Predict TP\n",
    "    nutrient = 'TotP(mmole/m3)'\n",
    "    print('\\n')\n",
    "    print(nutrient)\n",
    "    var_name = ['delT', 'Ice_d','days from iceoff','inflow(m3/s)','U','AirT','Humidity','CC','swr(w/m2)', \n",
    "                'Prec(mm/d)','NOX(mmole/m3)','PO4(mmole/m3)','O2(mmole/m3)','MLD','W','thermD', nutrient] \n",
    "    TP_df,TP_model,TP_hat = predict_lstm(Nut_memory,test_yr,var_name,nutrient,hyperparameters)\n",
    "    # Compare the predictions with observations\n",
    "    TP_RMSE,TP_R2,Nut_memory = compare(TP_df,Nut_memory,nutrient,TP_RMSE,TP_R2,TP_hat)\n",
    "    Erken_TP = pd.concat([Erken_TP,TP_df])\n",
    "    ## use the trained model to interplate the whole timeseries\n",
    "    Nut_memory = predict_ts(Nut_memory,nutrient,TP_model,var_name,hyperparameters)\n",
    "\n",
    "    # Predict Si\n",
    "    nutrient = 'Si(mmole/m3)'\n",
    "    print('\\n')\n",
    "    print(nutrient)\n",
    "    var_name = ['delT', 'Ice_d','days from iceoff','inflow(m3/s)','U','AirT','Humidity','CC','swr(w/m2)', \n",
    "                'Prec(mm/d)','NOX(mmole/m3)','PO4(mmole/m3)','O2(mmole/m3)','MLD','W','thermD', nutrient] \n",
    "    Si_df,Si_model,Si_hat = predict_lstm(Nut_memory,test_yr,var_name,nutrient,hyperparameters)\n",
    "    # Compare the predictions with observations\n",
    "    Si_RMSE,Si_R2,Nut_memory = compare(Si_df,Nut_memory,nutrient,Si_RMSE,Si_R2,Si_hat)\n",
    "    Erken_Si = pd.concat([Erken_Si,Si_df])\n",
    "    ## use the trained model to interplate the whole timeseries\n",
    "    Nut_memory = predict_ts(Nut_memory,nutrient,Si_model,var_name,hyperparameters)\n",
    "\n",
    "    # Predict Chl\n",
    "    nutrient = 'Chl(mg/m3)'\n",
    "    print('\\n')\n",
    "    print(nutrient)\n",
    "    var_name = ['delT', 'Ice_d','days from iceoff','inflow(m3/s)','U','AirT','Humidity','CC','swr(w/m2)','Prec(mm/d)',\n",
    "                'NOX(mmole/m3)','PO4(mmole/m3)','Si(mmole/m3)', 'TotP(mmole/m3)','NH4(mmole/m3)','O2(mmole/m3)',\n",
    "                'MLD','W','thermD',nutrient] \n",
    "    Chl_df,Chl_model,Chl_hat = predict_lstm(Nut_memory,test_yr,var_name,nutrient,hyperparameters)\n",
    "    # Compare the predictions with observations\n",
    "    Chl_RMSE,Chl_R2,Nut_memory = compare(Chl_df,Nut_memory,nutrient,Chl_RMSE,Chl_R2,Chl_hat)\n",
    "    Erken_Chl = pd.concat([Erken_Chl,Chl_df])\n",
    "    ## use the trained model to interplate the whole timeseries\n",
    "    Nut_memory = predict_ts(Nut_memory,nutrient,Chl_model,var_name,hyperparameters)\n",
    "    \n",
    "    print(year[i])\n",
    "    print('Model takes '+str(round((time.time()-start_time)/60))+' min to run')\n",
    "    print('\\n')"
   ]
  },
  {
   "cell_type": "code",
   "execution_count": 482,
   "id": "prompt-suspect",
   "metadata": {},
   "outputs": [],
   "source": [
    "Erken_Nut = Erken_NOX.merge(Erken_NH4,\n",
    "                on='Date',\n",
    "                how = 'left').merge(Erken_O2,\n",
    "                                    on='Date',\n",
    "                                    how = 'left').merge(Erken_PO4,\n",
    "                                                        on='Date',\n",
    "                                                        how = 'left').merge(Erken_TP,\n",
    "                                                                            on = 'Date',\n",
    "                                                                            how='left').merge(Erken_Si,\n",
    "                                                                                              on='Date',\n",
    "                                                                                              how = 'left').merge(Erken_Chl,\n",
    "                                                                                                                  on='Date',\n",
    "                                                                                                                  how = 'left')\n",
    "Erken_Nut.drop('TP(mmole/m3)',axis = 1,inplace = True)\n",
    "os.chdir(LSTM_save_folder)\n",
    "Erken_Nut.to_csv('LSTM predicted nutrient_predicted nutrient and Chl.csv',index = False)\n",
    "\n",
    "RMSE = pd.DataFrame({'NOX':NOX_RMSE,'NH4':NH4_RMSE,'O2':O2_RMSE,'PO4':PO4_RMSE,'TP':TP_RMSE,'Si':Si_RMSE,'Chl':Chl_RMSE},index = year)\n",
    "RMSE.to_csv('RMSE.csv',index = False)\n",
    "\n",
    "R2 = pd.DataFrame({'NOX':NOX_R2,'NH4':NH4_R2,'O2':O2_R2,'PO4':PO4_R2,'TP':TP_R2,'Si':Si_R2,'Chl':Chl_R2},index = year)\n",
    "R2.to_csv('R2.csv',index = False)"
   ]
  },
  {
   "cell_type": "code",
   "execution_count": 481,
   "id": "charming-offset",
   "metadata": {},
   "outputs": [
    {
     "data": {
      "text/plain": [
       "[4.442661438938522,\n",
       " 3.1676660626627036,\n",
       " 5.336711898160277,\n",
       " 4.986615127780393,\n",
       " 3.8253900878157414,\n",
       " 3.9707920631430946,\n",
       " 4.846255741082887,\n",
       " 5.376003035349939,\n",
       " 3.6447674853650867,\n",
       " 8.630015809654916,\n",
       " 5.967081769372331,\n",
       " 5.064256693092051,\n",
       " 4.579564181484866,\n",
       " 4.26212376823703,\n",
       " 5.895335111002262,\n",
       " 6.485282607743182,\n",
       " 4.527411965693013]"
      ]
     },
     "execution_count": 481,
     "metadata": {},
     "output_type": "execute_result"
    }
   ],
   "source": [
    "Chl_RMSE"
   ]
  },
  {
   "cell_type": "code",
   "execution_count": null,
   "id": "racial-conversation",
   "metadata": {},
   "outputs": [],
   "source": []
  }
 ],
 "metadata": {
  "kernelspec": {
   "display_name": "Python 3",
   "language": "python",
   "name": "python3"
  },
  "language_info": {
   "codemirror_mode": {
    "name": "ipython",
    "version": 3
   },
   "file_extension": ".py",
   "mimetype": "text/x-python",
   "name": "python",
   "nbconvert_exporter": "python",
   "pygments_lexer": "ipython3",
   "version": "3.8.7"
  }
 },
 "nbformat": 4,
 "nbformat_minor": 5
}
