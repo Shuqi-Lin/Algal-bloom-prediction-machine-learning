{
 "cells": [
  {
   "cell_type": "code",
   "execution_count": 112,
   "id": "adult-interface",
   "metadata": {},
   "outputs": [],
   "source": [
    "import matplotlib.pyplot as plt\n",
    "import os\n",
    "import pandas as pd\n",
    "import numpy as np\n",
    "import seaborn as sns\n",
    "from math import sqrt\n",
    "from sklearn.metrics import mean_squared_error\n",
    "from sklearn.metrics import r2_score"
   ]
  },
  {
   "cell_type": "code",
   "execution_count": 113,
   "id": "dressed-police",
   "metadata": {},
   "outputs": [
    {
     "name": "stdout",
     "output_type": "stream",
     "text": [
      "File name of all observation data:ME_Observation_df_modified.csv\n"
     ]
    }
   ],
   "source": [
    "#os.chdir('Trainning data')\n",
    "filename = input('File name of all observation data:')\n",
    "ob_df = pd.read_csv(filename,sep = ',',parse_dates=[0])\n",
    "ob_df.columns.values[0] = 'Date'"
   ]
  },
  {
   "cell_type": "code",
   "execution_count": 116,
   "id": "exact-scheme",
   "metadata": {},
   "outputs": [
    {
     "name": "stdout",
     "output_type": "stream",
     "text": [
      "Input variable name: Chl\n"
     ]
    },
    {
     "data": {
      "text/plain": [
       "<AxesSubplot:xlabel='Date'>"
      ]
     },
     "execution_count": 116,
     "metadata": {},
     "output_type": "execute_result"
    },
    {
     "data": {
      "image/png": "[encoded data removed]",
      "text/plain": [
       "<Figure size 1296x576 with 1 Axes>"
      ]
     },
     "metadata": {
      "needs_background": "light"
     },
     "output_type": "display_data"
    }
   ],
   "source": [
    "target_variable = input('Input variable name: ')\n",
    "ob_df.plot(x  ='Date',y = target_variable,style = 'go',figsize = (18,8))"
   ]
  },
  {
   "cell_type": "code",
   "execution_count": 108,
   "id": "million-isaac",
   "metadata": {},
   "outputs": [],
   "source": [
    "# Delete the winter data\n",
    "ob_df['MM'] = ob_df['Date'].apply(lambda d:d.month)\n",
    "ob_df.drop(ob_df[(ob_df['MM']<3)|(ob_df['MM']>=12)].index,axis = 0,inplace = True)"
   ]
  },
  {
   "cell_type": "code",
   "execution_count": 100,
   "id": "chronic-commercial",
   "metadata": {},
   "outputs": [],
   "source": [
    "# Delete the duplicate rows\n",
    "ob_df = ob_df.drop_duplicates(['Date'],keep = 'first')\n",
    "ob_df['MLD'].fillna(value = 25,inplace = True)\n",
    "ob_df['W'].fillna(value = 0,inplace = True)"
   ]
  },
  {
   "cell_type": "code",
   "execution_count": 109,
   "id": "functioning-solomon",
   "metadata": {},
   "outputs": [],
   "source": [
    "ob_df.to_csv('ME_Observation_df_modified.csv',index = False)"
   ]
  },
  {
   "cell_type": "code",
   "execution_count": 103,
   "id": "latest-equipment",
   "metadata": {},
   "outputs": [
    {
     "name": "stdout",
     "output_type": "stream",
     "text": [
      "File name of daily observation data:ME_Daily_Observation_df.csv\n"
     ]
    }
   ],
   "source": [
    "filename_d = input('File name of daily observation data:')\n",
    "ob_df_daily = pd.read_csv(filename_d,sep = ',',parse_dates=[0])\n",
    "ob_df_daily.columns.values[0] = 'Date'"
   ]
  },
  {
   "cell_type": "code",
   "execution_count": 110,
   "id": "scientific-daily",
   "metadata": {},
   "outputs": [],
   "source": [
    "# Delete the winter data\n",
    "ob_df_daily['MM'] = ob_df_daily['Date'].apply(lambda d:d.month)\n",
    "ob_df_daily.drop(ob_df_daily[(ob_df_daily['MM']<3)|(ob_df_daily['MM']>=12)].index,axis = 0,inplace = True)"
   ]
  },
  {
   "cell_type": "code",
   "execution_count": 105,
   "id": "fatal-asthma",
   "metadata": {},
   "outputs": [],
   "source": [
    "# Delete the duplicate rows\n",
    "ob_df_daily = ob_df_daily.drop_duplicates(['Date'],keep = 'first')\n",
    "ob_df_daily['W'].fillna(value = 0,inplace  =True)\n",
    "ob_df_daily['MLD'].fillna(value = 25,inplace=True)"
   ]
  },
  {
   "cell_type": "code",
   "execution_count": 106,
   "id": "freelance-teens",
   "metadata": {},
   "outputs": [
    {
     "name": "stdout",
     "output_type": "stream",
     "text": [
      "<class 'pandas.core.frame.DataFrame'>\n",
      "Int64Index: 11321 entries, 57 to 13510\n",
      "Data columns (total 17 columns):\n",
      " #   Column            Non-Null Count  Dtype         \n",
      "---  ------            --------------  -----         \n",
      " 0   Date              11321 non-null  datetime64[ns]\n",
      " 1   SST               11321 non-null  float64       \n",
      " 2   delT              11321 non-null  float64       \n",
      " 3   U                 11321 non-null  float64       \n",
      " 4   AirT              11321 non-null  float64       \n",
      " 5   CC                0 non-null      float64       \n",
      " 6   Prec              11321 non-null  float64       \n",
      " 7   swr               11321 non-null  float64       \n",
      " 8   inflow            11321 non-null  float64       \n",
      " 9   outflow           11321 non-null  float64       \n",
      " 10  MLD               11321 non-null  float64       \n",
      " 11  W                 11321 non-null  float64       \n",
      " 12  doy               11321 non-null  int64         \n",
      " 13  month             11321 non-null  int64         \n",
      " 14  Ice_d             11321 non-null  float64       \n",
      " 15  days_from_iceoff  11321 non-null  int64         \n",
      " 16  MM                11321 non-null  int64         \n",
      "dtypes: datetime64[ns](1), float64(12), int64(4)\n",
      "memory usage: 1.6 MB\n"
     ]
    }
   ],
   "source": [
    "ob_df_daily.info()"
   ]
  },
  {
   "cell_type": "code",
   "execution_count": 111,
   "id": "difficult-wednesday",
   "metadata": {},
   "outputs": [],
   "source": [
    "ob_df_daily.to_csv('ME_Daily_Observation_df_modified.csv',index = False)"
   ]
  },
  {
   "cell_type": "code",
   "execution_count": null,
   "id": "educational-cosmetic",
   "metadata": {},
   "outputs": [],
   "source": []
  }
 ],
 "metadata": {
  "kernelspec": {
   "display_name": "Python 3",
   "language": "python",
   "name": "python3"
  },
  "language_info": {
   "codemirror_mode": {
    "name": "ipython",
    "version": 3
   },
   "file_extension": ".py",
   "mimetype": "text/x-python",
   "name": "python",
   "nbconvert_exporter": "python",
   "pygments_lexer": "ipython3",
   "version": "3.8.7"
  }
 },
 "nbformat": 4,
 "nbformat_minor": 5
}
