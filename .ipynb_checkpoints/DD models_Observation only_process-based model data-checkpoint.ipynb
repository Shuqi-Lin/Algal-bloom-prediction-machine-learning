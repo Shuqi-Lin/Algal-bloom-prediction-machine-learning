{
 "cells": [
  {
   "cell_type": "code",
   "execution_count": 1,
   "id": "elementary-prototype",
   "metadata": {},
   "outputs": [],
   "source": [
    "import os\n",
    "import pandas as pd\n",
    "import numpy as np\n",
    "import seaborn as sns\n",
    "import matplotlib.pyplot as plt\n",
    "import datetime\n",
    "import random\n",
    "from sklearn.model_selection import RandomizedSearchCV\n",
    "from sklearn.model_selection import cross_val_score\n",
    "from sklearn.ensemble import GradientBoostingRegressor\n",
    "from sklearn.metrics import mean_squared_error\n",
    "from sklearn.metrics import r2_score\n",
    "from math import sqrt\n",
    "import pickle\n",
    "pd.set_option('display.max_columns', 100)  # or 1000\n",
    "pd.set_option('display.max_rows', 100)  # or 1000\n",
    "import shap\n",
    "import time\n",
    "from numpy import concatenate"
   ]
  },
  {
   "cell_type": "markdown",
   "id": "romance-friday",
   "metadata": {},
   "source": [
    "# Load training dataset"
   ]
  },
  {
   "cell_type": "code",
   "execution_count": 2,
   "id": "infinite-examination",
   "metadata": {},
   "outputs": [
    {
     "name": "stdout",
     "output_type": "stream",
     "text": [
      "file name of observation dataset:ME_Observation_df.csv\n"
     ]
    }
   ],
   "source": [
    "os.chdir('..\\\\Algal-bloom-prediction-machine-learning\\\\Trainning data')\n",
    "file_name = input('file name of observation dataset:')\n",
    "all_df = pd.read_csv(file_name,sep = ',',parse_dates = ['Date'])"
   ]
  },
  {
   "cell_type": "code",
   "execution_count": 3,
   "id": "fitted-rochester",
   "metadata": {},
   "outputs": [
    {
     "name": "stdout",
     "output_type": "stream",
     "text": [
      "Number of training years:11\n",
      "Year:1999\n",
      "Year:2000\n",
      "Year:2001\n",
      "Year:2002\n",
      "Year:2003\n",
      "Year:2004\n",
      "Year:2005\n",
      "Year:2006\n",
      "Year:2007\n",
      "Year:2008\n",
      "Year:2009\n"
     ]
    }
   ],
   "source": [
    "# Specify the training year\n",
    "n_trainingyr = int(input('Number of training years:'))\n",
    "year = []\n",
    "for i in range(n_trainingyr):\n",
    "    y=int(input('Year:'))\n",
    "    year.append(y)\n",
    "# Lake Erken: [2004,2005,2006,2007,2008,2009,2010,2011,2012,2013,2014,2015,2016] "
   ]
  },
  {
   "cell_type": "code",
   "execution_count": 17,
   "id": "conventional-berkeley",
   "metadata": {},
   "outputs": [],
   "source": [
    "# Resample the dataset (Optional)\n",
    "drop_row = []\n",
    "dT = 0\n",
    "i = 1\n",
    "sample_df = all_df.copy()\n",
    "while True:\n",
    "    dT = (sample_df['Date'].iloc[i]-sample_df['Date'].iloc[i-1])/np.timedelta64(1, 'D')\n",
    "    if dT<35: # set the data frequency (over 10, 14, 20 days)\n",
    "        #print(sample_df['Date'].iloc[i])\n",
    "        sample_df.drop(sample_df.index.values[i],axis = 0,inplace  =True)\n",
    "    else:\n",
    "        i+=1\n",
    "    if i>=len(sample_df):break"
   ]
  },
  {
   "cell_type": "markdown",
   "id": "protective-finder",
   "metadata": {},
   "source": [
    "# GBR model"
   ]
  },
  {
   "cell_type": "code",
   "execution_count": 14,
   "id": "turned-envelope",
   "metadata": {},
   "outputs": [],
   "source": [
    "def training_cv(df,features,nutrient,year):\n",
    "    df['YY'] = df['Date'].apply(lambda d:d.year)\n",
    "    df = df[df['YY'].isin(year)]\n",
    "    X_train = df[features]\n",
    "    y_train = df[nutrient].values\n",
    "\n",
    "    GBR = GradientBoostingRegressor(random_state=101)\n",
    "    n_estimators = [int(x) for x in np.arange(40,140,20)]\n",
    "    max_depth=[int(x) for x in np.arange(5,10,1)]\n",
    "    learning_rate = [x for x in [0.01,0.1,1]]\n",
    "    subsample = [x for x in [0.7,0.8,0.9,1]]\n",
    "    param_grid = {'n_estimators': n_estimators,\n",
    "                  'max_depth': max_depth,\n",
    "                  'learning_rate':learning_rate,\n",
    "                  'subsample':subsample}\n",
    "    GBR_rs = RandomizedSearchCV(estimator = GBR,param_distributions = param_grid,n_iter = 30,cv = 5,verbose = 0)\n",
    "    GBR_rs.fit(X_train,y_train)\n",
    "    #print(GBR_rs.best_params_)\n",
    "    GBR.set_params(**GBR_rs.best_params_,random_state=101).fit(X_train,y_train)\n",
    "    rmse = -cross_val_score(GBR, X_train, y_train, cv=5,scoring = 'neg_root_mean_squared_error')\n",
    "    r2 = cross_val_score(GBR, X_train, y_train, cv=5,scoring = 'r2')\n",
    "    print('Training dataset evaluation:')\n",
    "    print(\"RMSE %.2f (+/- %.2f)\" % (rmse.mean(), rmse.std()))\n",
    "    print(\"R2 %.2f (+/- %0.2f)\" % (r2.mean(), r2.std()))\n",
    "    pickle.dump(GBR, open(\"GBR.\"+nutrient.split('(')[0]+\".dat\", \"wb\"))"
   ]
  },
  {
   "cell_type": "code",
   "execution_count": 20,
   "id": "unlike-network",
   "metadata": {},
   "outputs": [],
   "source": [
    "def predict(Erken_test,df,features,nutrient,test_time,ylim):\n",
    "    #load the target GBR model\n",
    "    GBR = pickle.load(open(\"GBR.\"+nutrient.split('(')[0]+\".dat\", \"rb\"))\n",
    "    #predict yhat using test_X\n",
    "    Erken_test[nutrient] =GBR.predict(Erken_test[features])\n",
    "    nutrient_compare = Erken_test[['Date',nutrient]].merge(df[['Date',nutrient]],\n",
    "                                                          how = 'inner',on = 'Date')\n",
    "    nutrient_compare.columns = ['Date','Prediction','True']\n",
    "    #nutrient_compare['Prediction_7d'] = Erken_Nut[nutrient]\n",
    "\n",
    "    RMSE = mean_squared_error(nutrient_compare['True'],nutrient_compare['Prediction'],squared = False)\n",
    "    #plot time-series comparison\n",
    "    f2,ax2 = plt.subplots(1,2,figsize = (18,6),gridspec_kw={'width_ratios': [2, 1]})\n",
    "    Erken_test.plot(x = 'Date',y =nutrient,style = 'b*',ax = ax2[0],label = 'Predicted '+nutrient)\n",
    "    df[['Date',nutrient]].plot(x = 'Date',y =nutrient,style = 'ro',ms = 7,alpha = 0.7,ax = ax2[0],label = 'Observation')\n",
    "    ax2[0].text(0.2, 0.8, 'RMSE:{}'.format(round(RMSE,2)), \n",
    "            horizontalalignment='center',verticalalignment='center', \n",
    "            transform=ax2[0].transAxes,fontsize='x-large')\n",
    "    ax2[0].set_xlim((test_time[0],test_time[1]))\n",
    "    ax2[0].set_ylim(ylim)\n",
    "    \n",
    "    R2 = r2_score(nutrient_compare['True'],nutrient_compare['Prediction'])\n",
    "    #plot scatter plot\n",
    "    ax2[1].scatter(nutrient_compare['True'],nutrient_compare['Prediction'],s = 20,c = 'blue')\n",
    "    ax2[1].plot(nutrient_compare['True'],nutrient_compare['True'],lw  =1.5,color = 'black')    \n",
    "    ax2[1].set_xlabel('True value')\n",
    "    ax2[1].set_ylabel('Prediction')\n",
    "    ax2[1].text(0.5, 0.8, 'R2:{}'.format(round(R2,2)), \n",
    "            horizontalalignment='center',verticalalignment='center', \n",
    "            transform=ax2[1].transAxes,fontsize='x-large')\n",
    "    \n",
    "    return test_df,f2"
   ]
  },
  {
   "cell_type": "code",
   "execution_count": null,
   "id": "worldwide-qatar",
   "metadata": {},
   "outputs": [],
   "source": [
    "# Train the model and 5-fold CV\n",
    "n_features = int(input('Number of features:'))\n",
    "features = []\n",
    "for i in range(n_features):\n",
    "    f = input('feature name:')\n",
    "    features.append(f)\n",
    "# Lake Erken:['inflow(m3/s)','AirT','Prec(mm/d)','delT','U','Humidity','CC','swr(w/m2)','Ice_d','days from iceoff',\n",
    "#           'NOX(mmole/m3)','NH4(mmole/m3)', 'PO4(mmole/m3)','TotP(mmole/m3)', 'Si(mmole/m3)','O2(mmole/m3)']\n",
    "test_time = [pd.Timestamp(int(input('Test start in year:')),int(input('Test start in month:')),int(input('Test start on day:'))),\n",
    "             pd.Timestamp(int(input('Test end in year:')),int(input('Test end in month:')),int(input('Test end in day:')))]\n",
    "#os.chdir('..\\\\Scenario1\\\\GBR')\n",
    "target = input('Target variable:')"
   ]
  },
  {
   "cell_type": "code",
   "execution_count": 16,
   "id": "previous-inventory",
   "metadata": {},
   "outputs": [
    {
     "name": "stdout",
     "output_type": "stream",
     "text": [
      "Training dataset evaluation:\n",
      "RMSE 5.14 (+/- 1.25)\n",
      "R2 0.18 (+/- 0.14)\n"
     ]
    }
   ],
   "source": [
    "training_cv(all_df,features,target,year)"
   ]
  },
  {
   "cell_type": "code",
   "execution_count": 21,
   "id": "other-division",
   "metadata": {},
   "outputs": [
    {
     "name": "stderr",
     "output_type": "stream",
     "text": [
      "\n",
      "A value is trying to be set on a copy of a slice from a DataFrame.\n",
      "Try using .loc[row_indexer,col_indexer] = value instead\n",
      "\n",
      "See the caveats in the documentation: https://pandas.pydata.org/pandas-docs/stable/user_guide/indexing.html#returning-a-view-versus-a-copy\n"
     ]
    },
    {
     "data": {
      "image/png": "[encoded data removed]",
      "text/plain": [
       "<Figure size 1296x432 with 2 Axes>"
      ]
     },
     "metadata": {
      "needs_background": "light"
     },
     "output_type": "display_data"
    }
   ],
   "source": [
    "test_df = all_df[all_df['Date']>=test_time[0]]\n",
    "ylim = (0,all_df[target].max())\n",
    "test_df, f2 = predict(test_df,all_df,features,target,test_time,ylim)\n",
    "fig_name = input('Name of figure:')\n",
    "f2.savefig(fig_name+'.png',dpi = 500)"
   ]
  },
  {
   "cell_type": "code",
   "execution_count": 22,
   "id": "ethical-gnome",
   "metadata": {},
   "outputs": [
    {
     "data": {
      "image/png": "[encoded data removed]",
      "text/plain": [
       "<Figure size 576x540 with 1 Axes>"
      ]
     },
     "metadata": {
      "needs_background": "light"
     },
     "output_type": "display_data"
    },
    {
     "data": {
      "image/png": "[encoded data removed]",
      "text/plain": [
       "<Figure size 576x540 with 2 Axes>"
      ]
     },
     "metadata": {
      "needs_background": "light"
     },
     "output_type": "display_data"
    }
   ],
   "source": [
    "GBR = pickle.load(open('GBR.Chl.dat','rb'))\n",
    "shap_values = shap.TreeExplainer(GBR).shap_values(test_df[features])\n",
    "shap.summary_plot(shap_values,test_df[features],plot_type = 'bar')\n",
    "shap.summary_plot(shap_values,test_df[features])"
   ]
  },
  {
   "cell_type": "code",
   "execution_count": 23,
   "id": "formed-pontiac",
   "metadata": {},
   "outputs": [],
   "source": [
    "# Export the model results\n",
    "test_df.to_csv('ME_GBR predicted Chl.csv',index = False)"
   ]
  },
  {
   "cell_type": "markdown",
   "id": "premium-clearance",
   "metadata": {},
   "source": [
    "# LSTM model"
   ]
  },
  {
   "cell_type": "code",
   "execution_count": 24,
   "id": "metropolitan-mystery",
   "metadata": {},
   "outputs": [],
   "source": [
    "from keras.models import Sequential\n",
    "from keras.layers import Dense, LSTM\n",
    "from keras.layers import Dropout\n",
    "from sklearn.preprocessing import MinMaxScaler\n",
    "from sklearn.model_selection import KFold\n",
    "Scaler = MinMaxScaler()"
   ]
  },
  {
   "cell_type": "code",
   "execution_count": 25,
   "id": "understanding-animation",
   "metadata": {},
   "outputs": [],
   "source": [
    "# Add the delta time feature into all_df\n",
    "deltaT = []\n",
    "dT = []\n",
    "for i in range(1,len(all_df['Date'])):\n",
    "    deltaT.append(all_df['Date'][i]-all_df['Date'][i-1])\n",
    "    dT.append(deltaT[i-1]/np.timedelta64(1, 'D'))\n",
    "dT.insert(0,np.nan)\n",
    "\n",
    "all_df['Delta time'] = np.array(dT)\n",
    "# delete the data points which have an over 14 days gap from previous sample point\n",
    "all_df = all_df[all_df['Delta time']<=14]"
   ]
  },
  {
   "cell_type": "code",
   "execution_count": 39,
   "id": "laden-rings",
   "metadata": {},
   "outputs": [],
   "source": [
    "# convert series to supervised learning\n",
    "def series_to_supervised(data, n_in, n_out, var_name,dropnan=True):\n",
    "    n_vars = 1 if type(data) is list else data.shape[1] # number of variables\n",
    "    df = pd.DataFrame(data)\n",
    "    cols, names = list(), list()\n",
    "    # input sequence (t-n, ... t-1)\n",
    "    for i in range(n_in, 0, -1):\n",
    "        cols.append(df.shift(i))\n",
    "        names += [(var_name[j]+'(t-%d)' % (i)) for j in range(n_vars)]\n",
    "    # forecast sequence (t, t+1, ... t+n)\n",
    "    for i in range(0, n_out):\n",
    "        cols.append(df.shift(-i))\n",
    "        if i == 0:\n",
    "            names += [(var_name[j]+'(t)') for j in range(n_vars)]\n",
    "        else:\n",
    "            names += [(var_name[j]+'(t+%d)' % (i)) for j in range(n_vars)]\n",
    "    # put it all together\n",
    "    agg = pd.concat(cols, axis=1)\n",
    "    agg.columns = names\n",
    "    agg.dropna(inplace=True)\n",
    "    drop_col =[]\n",
    "    for i in range(1,n_in+1):\n",
    "        drop_col += [n_vars*i-1]\n",
    "    agg.drop(agg.iloc[:,drop_col],axis=1,inplace = True)\n",
    "    return agg"
   ]
  },
  {
   "cell_type": "code",
   "execution_count": 26,
   "id": "numerous-consolidation",
   "metadata": {},
   "outputs": [],
   "source": [
    "# load dataset\n",
    "def load_dataset(df,var_name):\n",
    "    values = df[var_name].values\n",
    "    return values"
   ]
  },
  {
   "cell_type": "code",
   "execution_count": 27,
   "id": "expensive-evaluation",
   "metadata": {},
   "outputs": [],
   "source": [
    "def sparse_dataset(data_X,data_y):\n",
    "    index = []\n",
    "    y = []\n",
    "    for i in range(len(data_y)):\n",
    "        if ~np.isnan(data_y[i]):\n",
    "            index.append(i)\n",
    "            y.append(data_y[i])\n",
    "    X = np.stack(data_X[index,:,:])\n",
    "    y = np.array(y)\n",
    "    return index,X,y"
   ]
  },
  {
   "cell_type": "code",
   "execution_count": 28,
   "id": "dimensional-reward",
   "metadata": {},
   "outputs": [],
   "source": [
    "def fit_lstm(train_X,train_y,n_batch,nb_epoch,n_neuros,dropout,verbose):\n",
    "    # design network\n",
    "    model = Sequential()\n",
    "    model.add(LSTM(n_neuros,  return_sequences = True,\n",
    "              input_shape=(train_X.shape[1], train_X.shape[2])))\n",
    "    model.add(Dropout(dropout))\n",
    "    model.add(LSTM(n_neuros, return_sequences = True))\n",
    "    model.add(Dropout(dropout))\n",
    "    model.add(LSTM(n_neuros))\n",
    "    model.add(Dropout(dropout))\n",
    "    model.add(Dense(1))\n",
    "    model.compile(loss='mse', optimizer='adam')\n",
    "    # fit network\n",
    "    model.fit(train_X,train_y,epochs =nb_epoch,batch_size = n_batch,verbose = verbose)\n",
    "    return model"
   ]
  },
  {
   "cell_type": "code",
   "execution_count": 64,
   "id": "through-explosion",
   "metadata": {},
   "outputs": [],
   "source": [
    "def plot_comparison(df,y,yhat,yhat_ts,n_date,time_steps,index,rmse,r2,nutrient,date,ylim):\n",
    "    # Observation time\n",
    "    time = df['Date'].iloc[n_date+time_steps:].reset_index()['Date'].iloc[index] \n",
    "    # Direct comparison of observation and prediction [yhat] (data point to data point)\n",
    "    pred = pd.DataFrame(concatenate((yhat.reshape(yhat.shape[0],1),y.reshape(y.shape[0],1)), axis=1),\n",
    "                        index = time)\n",
    "    pred.columns = ['Prediction','True value']\n",
    "    # Extract the continuous timeseries from input dataset\n",
    "    time_ts = df['Date'].iloc[n_date+time_steps:]\n",
    "    # The continuous prediction yhat_ts \n",
    "    pred_ts = pd.DataFrame(yhat_ts,index = time_ts,columns = ['Prediction'])\n",
    "\n",
    "    f1,ax1 = plt.subplots(1,2,figsize = (18,6),gridspec_kw={'width_ratios': [2, 1]})\n",
    "    pred_ts.plot(y = 'Prediction',\n",
    "                     style = 'b*',\n",
    "                     ax = ax1[0])\n",
    "    pred.plot(y = 'True value',style='ro',alpha = 0.7,ms = 7,ax = ax1[0])\n",
    "    ax1[0].set_ylabel(nutrient)\n",
    "    ax1[0].set_xlim((test_time[0],test_time[1]))\n",
    "    ax1[0].set_ylim(ylim)\n",
    "    ax1[0].text(0.7, 0.9, 'RMSE:{}'.format(round(rmse,2)), \n",
    "            horizontalalignment='center',verticalalignment='center', \n",
    "            transform=ax1[0].transAxes,fontsize='x-large')\n",
    "    pred.plot(x = 'True value', y = 'Prediction',kind = 'scatter',s = 20,c = 'blue',ax = ax1[1])\n",
    "    ax1[1].plot(pred['True value'],pred['True value'],lw  =1.5,color = 'black')\n",
    "    ax1[1].text(0.5, 0.8, 'R2:{}'.format(round(r2,2)), \n",
    "                horizontalalignment='center',verticalalignment='center', \n",
    "                transform=ax1[1].transAxes,fontsize='x-large')\n",
    "    return f1"
   ]
  },
  {
   "cell_type": "code",
   "execution_count": 30,
   "id": "according-result",
   "metadata": {},
   "outputs": [],
   "source": [
    "def predict_ts(df,nutrient,model,values,hyperparameters):\n",
    "    # add the predictive values into dataset\n",
    "    value_X, value_y = values[:, :-1], values[:, -1]\n",
    "    value_X = value_X.reshape((value_X.shape[0], hyperparameters['time_steps']+1, \n",
    "                               int(value_X.shape[1]/(hyperparameters['time_steps']+1))))\n",
    "    y_pred = Scaler.inverse_transform(model.predict(value_X,batch_size = hyperparameters['n_batch']))    \n",
    "    df[nutrient].iloc[hyperparameters['time_steps']:]=y_pred[:,0]\n",
    "    df[nutrient].fillna(method = 'backfill',inplace = True)\n",
    "    return df"
   ]
  },
  {
   "cell_type": "code",
   "execution_count": 31,
   "id": "northern-companion",
   "metadata": {},
   "outputs": [],
   "source": [
    "def split_dataset(train,test,time_steps):\n",
    "    # split into input and outputs\n",
    "    train_X, train_y = train[:, :-1], train[:, -1]\n",
    "    test_X, test_y = test[:, :-1], test[:, -1]\n",
    "    # reshape input to be 3D [samples, timesteps, features]\n",
    "    train_X = train_X.reshape((train_X.shape[0], time_steps+1, int(train_X.shape[1]/(time_steps+1))))\n",
    "    test_X = test_X.reshape((test_X.shape[0], time_steps+1, int(test_X.shape[1]/(time_steps+1))))\n",
    "    print(train_X.shape, train_y.shape, test_X.shape, test_y.shape)\n",
    "    print('number of input timesteps: {}'.format(train_X.shape[1]))\n",
    "    print('number of features: {}'.format(train_X.shape[2]))\n",
    "    return train_X, train_y,test_X, test_y"
   ]
  },
  {
   "cell_type": "code",
   "execution_count": 65,
   "id": "decent-method",
   "metadata": {},
   "outputs": [],
   "source": [
    "# ensure all data is float\n",
    "def predict_lstm(df,values,var_name,nutrient,test_time,hyperparameters,ylim):\n",
    "    n_date = df[df['Date']<test_time[0]]['Date'].count()\n",
    "    train = values[:n_date, :]\n",
    "    test = values[n_date:, :]\n",
    "    train_X, train_y,test_X, test_y = split_dataset(train,test,hyperparameters['time_steps'])\n",
    "    # fit the lstm model\n",
    "    index,X,y = sparse_dataset(train_X,train_y) # stack the timeseries input together to create a 2D training input X, and a 1D lable y\n",
    "    y_scaled = Scaler.fit_transform(y.reshape(-1,1))\n",
    "    print('number of samples: {}'.format(len(index)))\n",
    "    kf = KFold(n_splits=5, shuffle=True, random_state=101) # 5-fold cross validation\n",
    "    RMSE = []\n",
    "    R2 = []\n",
    "    # fit the lstm model \n",
    "    for train_index, test_index in kf.split(X,y_scaled):\n",
    "        #print(\"TRAIN:\", len(train_index), \"TEST:\", len(test_index))\n",
    "        X_train, X_test = X[train_index], X[test_index]\n",
    "        y_train, y_test = y_scaled[train_index], y_scaled[test_index]\n",
    "        model = fit_lstm(X_train,y_train,hyperparameters['n_batch'],hyperparameters['nb_epoch'],\n",
    "                         hyperparameters['n_neuros'],hyperparameters['dropout'],hyperparameters['verbose'])\n",
    "        yhat = Scaler.inverse_transform(model.predict(X_test,batch_size = hyperparameters['n_batch']))\n",
    "        y_test = Scaler.inverse_transform(y_test)\n",
    "        rmse = sqrt(mean_squared_error(y_test, yhat))\n",
    "        r2 =  r2_score(y_test, yhat)\n",
    "        RMSE.append(rmse) \n",
    "        R2.append(r2)\n",
    "        #print('Training RMSE: %.2f' %rmse)       \n",
    "    # make a prediction\n",
    "    index,X,y = sparse_dataset(test_X,test_y) # index is the time series\n",
    "    yhat = Scaler.inverse_transform(model.predict(X,batch_size = hyperparameters['n_batch']))\n",
    "    rmse = sqrt(mean_squared_error(y, yhat))\n",
    "    r2 = r2_score(y, yhat)\n",
    "    print('Test RMSE: %.2f' % rmse)\n",
    "    print('Test R2: %.2f' %r2)\n",
    "    # make a prediction for the whole timeseries\n",
    "    yhat_ts = Scaler.inverse_transform(model.predict(test_X,batch_size = hyperparameters['n_batch']))\n",
    "    figure = plot_comparison(df,y,yhat,yhat_ts,n_date,hyperparameters['time_steps'],index,rmse,r2,nutrient,test_time,ylim)\n",
    "    return model,RMSE,R2,figure"
   ]
  },
  {
   "cell_type": "code",
   "execution_count": 33,
   "id": "written-adelaide",
   "metadata": {},
   "outputs": [],
   "source": [
    "# set the directory\n",
    "os.chdir('..\\\\LSTM')\n",
    "# set the hyperparameters\n",
    "hyperparameters = {'n_batch':10,'nb_epoch':100,'n_neuros':200,'dropout':0.1,'time_steps':1,'n_out':1,'verbose':0}"
   ]
  },
  {
   "cell_type": "code",
   "execution_count": 53,
   "id": "aggregate-hello",
   "metadata": {},
   "outputs": [],
   "source": [
    "# predict Chl\n",
    "features.append(target)\n",
    "values = load_dataset(all_df,features) #values = values.astype('float32')\n",
    "# frame as supervised learning\n",
    "reframed = series_to_supervised(values,hyperparameters['time_steps'],hyperparameters['n_out'],features)\n",
    "values = reframed.values"
   ]
  },
  {
   "cell_type": "code",
   "execution_count": 54,
   "id": "framed-completion",
   "metadata": {},
   "outputs": [
    {
     "data": {
      "text/html": [
       "<div>\n",
       "<style scoped>\n",
       "    .dataframe tbody tr th:only-of-type {\n",
       "        vertical-align: middle;\n",
       "    }\n",
       "\n",
       "    .dataframe tbody tr th {\n",
       "        vertical-align: top;\n",
       "    }\n",
       "\n",
       "    .dataframe thead th {\n",
       "        text-align: right;\n",
       "    }\n",
       "</style>\n",
       "<table border=\"1\" class=\"dataframe\">\n",
       "  <thead>\n",
       "    <tr style=\"text-align: right;\">\n",
       "      <th></th>\n",
       "      <th>O2(t-1)</th>\n",
       "      <th>CAR_dic(t-1)</th>\n",
       "      <th>Si(t-1)</th>\n",
       "      <th>N_Nit(t-1)</th>\n",
       "      <th>PO4(t-1)</th>\n",
       "      <th>N_Amm(t-1)</th>\n",
       "      <th>delT(t-1)</th>\n",
       "      <th>U(t-1)</th>\n",
       "      <th>AirT(t-1)</th>\n",
       "      <th>Prec(t-1)</th>\n",
       "      <th>swr(t-1)</th>\n",
       "      <th>inflow(t-1)</th>\n",
       "      <th>outflow(t-1)</th>\n",
       "      <th>Ice_d(t-1)</th>\n",
       "      <th>days_from_iceoff(t-1)</th>\n",
       "      <th>O2(t)</th>\n",
       "      <th>CAR_dic(t)</th>\n",
       "      <th>Si(t)</th>\n",
       "      <th>N_Nit(t)</th>\n",
       "      <th>PO4(t)</th>\n",
       "      <th>N_Amm(t)</th>\n",
       "      <th>delT(t)</th>\n",
       "      <th>U(t)</th>\n",
       "      <th>AirT(t)</th>\n",
       "      <th>Prec(t)</th>\n",
       "      <th>swr(t)</th>\n",
       "      <th>inflow(t)</th>\n",
       "      <th>outflow(t)</th>\n",
       "      <th>Ice_d(t)</th>\n",
       "      <th>days_from_iceoff(t)</th>\n",
       "      <th>Chl(t)</th>\n",
       "    </tr>\n",
       "  </thead>\n",
       "  <tbody>\n",
       "    <tr>\n",
       "      <th>1</th>\n",
       "      <td>359.375</td>\n",
       "      <td>3926.666667</td>\n",
       "      <td>2.607143</td>\n",
       "      <td>4.000000</td>\n",
       "      <td>3.096774</td>\n",
       "      <td>12.580645</td>\n",
       "      <td>0.042543</td>\n",
       "      <td>3.498471</td>\n",
       "      <td>6.930845</td>\n",
       "      <td>0.0000</td>\n",
       "      <td>137.660544</td>\n",
       "      <td>1.993531</td>\n",
       "      <td>1.516194</td>\n",
       "      <td>98.958333</td>\n",
       "      <td>197.0</td>\n",
       "      <td>409.375</td>\n",
       "      <td>3947.500000</td>\n",
       "      <td>36.071429</td>\n",
       "      <td>26.928571</td>\n",
       "      <td>2.870968</td>\n",
       "      <td>15.580645</td>\n",
       "      <td>-3.136722</td>\n",
       "      <td>2.427142</td>\n",
       "      <td>4.090003</td>\n",
       "      <td>0.9287</td>\n",
       "      <td>92.889750</td>\n",
       "      <td>5.643856</td>\n",
       "      <td>4.741300</td>\n",
       "      <td>78.0</td>\n",
       "      <td>-20.0</td>\n",
       "      <td>2.9</td>\n",
       "    </tr>\n",
       "    <tr>\n",
       "      <th>2</th>\n",
       "      <td>409.375</td>\n",
       "      <td>3947.500000</td>\n",
       "      <td>36.071429</td>\n",
       "      <td>26.928571</td>\n",
       "      <td>2.870968</td>\n",
       "      <td>15.580645</td>\n",
       "      <td>-3.136722</td>\n",
       "      <td>2.427142</td>\n",
       "      <td>4.090003</td>\n",
       "      <td>0.9287</td>\n",
       "      <td>92.889750</td>\n",
       "      <td>5.643856</td>\n",
       "      <td>4.741300</td>\n",
       "      <td>78.000000</td>\n",
       "      <td>-20.0</td>\n",
       "      <td>406.250</td>\n",
       "      <td>4033.333333</td>\n",
       "      <td>0.000000</td>\n",
       "      <td>33.357143</td>\n",
       "      <td>1.709677</td>\n",
       "      <td>7.290323</td>\n",
       "      <td>0.000000</td>\n",
       "      <td>4.233445</td>\n",
       "      <td>3.030419</td>\n",
       "      <td>0.9188</td>\n",
       "      <td>171.966957</td>\n",
       "      <td>4.467845</td>\n",
       "      <td>3.687625</td>\n",
       "      <td>78.0</td>\n",
       "      <td>8.0</td>\n",
       "      <td>10.1</td>\n",
       "    </tr>\n",
       "    <tr>\n",
       "      <th>3</th>\n",
       "      <td>406.250</td>\n",
       "      <td>4033.333333</td>\n",
       "      <td>0.000000</td>\n",
       "      <td>33.357143</td>\n",
       "      <td>1.709677</td>\n",
       "      <td>7.290323</td>\n",
       "      <td>0.000000</td>\n",
       "      <td>4.233445</td>\n",
       "      <td>3.030419</td>\n",
       "      <td>0.9188</td>\n",
       "      <td>171.966957</td>\n",
       "      <td>4.467845</td>\n",
       "      <td>3.687625</td>\n",
       "      <td>78.000000</td>\n",
       "      <td>8.0</td>\n",
       "      <td>315.625</td>\n",
       "      <td>3987.500000</td>\n",
       "      <td>8.571429</td>\n",
       "      <td>33.142857</td>\n",
       "      <td>0.903226</td>\n",
       "      <td>6.193548</td>\n",
       "      <td>5.595238</td>\n",
       "      <td>4.846104</td>\n",
       "      <td>13.173339</td>\n",
       "      <td>10.0168</td>\n",
       "      <td>95.453083</td>\n",
       "      <td>3.157959</td>\n",
       "      <td>4.989815</td>\n",
       "      <td>78.0</td>\n",
       "      <td>37.0</td>\n",
       "      <td>2.5</td>\n",
       "    </tr>\n",
       "    <tr>\n",
       "      <th>4</th>\n",
       "      <td>315.625</td>\n",
       "      <td>3987.500000</td>\n",
       "      <td>8.571429</td>\n",
       "      <td>33.142857</td>\n",
       "      <td>0.903226</td>\n",
       "      <td>6.193548</td>\n",
       "      <td>5.595238</td>\n",
       "      <td>4.846104</td>\n",
       "      <td>13.173339</td>\n",
       "      <td>10.0168</td>\n",
       "      <td>95.453083</td>\n",
       "      <td>3.157959</td>\n",
       "      <td>4.989815</td>\n",
       "      <td>78.000000</td>\n",
       "      <td>37.0</td>\n",
       "      <td>293.750</td>\n",
       "      <td>3756.666667</td>\n",
       "      <td>27.607143</td>\n",
       "      <td>36.000000</td>\n",
       "      <td>2.258065</td>\n",
       "      <td>7.870968</td>\n",
       "      <td>9.600816</td>\n",
       "      <td>2.044966</td>\n",
       "      <td>15.322085</td>\n",
       "      <td>0.0248</td>\n",
       "      <td>328.231371</td>\n",
       "      <td>54.337741</td>\n",
       "      <td>49.435608</td>\n",
       "      <td>78.0</td>\n",
       "      <td>65.0</td>\n",
       "      <td>3.1</td>\n",
       "    </tr>\n",
       "    <tr>\n",
       "      <th>5</th>\n",
       "      <td>293.750</td>\n",
       "      <td>3756.666667</td>\n",
       "      <td>27.607143</td>\n",
       "      <td>36.000000</td>\n",
       "      <td>2.258065</td>\n",
       "      <td>7.870968</td>\n",
       "      <td>9.600816</td>\n",
       "      <td>2.044966</td>\n",
       "      <td>15.322085</td>\n",
       "      <td>0.0248</td>\n",
       "      <td>328.231371</td>\n",
       "      <td>54.337741</td>\n",
       "      <td>49.435608</td>\n",
       "      <td>78.000000</td>\n",
       "      <td>65.0</td>\n",
       "      <td>268.750</td>\n",
       "      <td>3623.333333</td>\n",
       "      <td>36.071429</td>\n",
       "      <td>30.571429</td>\n",
       "      <td>1.580645</td>\n",
       "      <td>0.000000</td>\n",
       "      <td>15.174671</td>\n",
       "      <td>3.087298</td>\n",
       "      <td>21.475004</td>\n",
       "      <td>0.0204</td>\n",
       "      <td>318.036416</td>\n",
       "      <td>20.327559</td>\n",
       "      <td>25.470301</td>\n",
       "      <td>78.0</td>\n",
       "      <td>92.0</td>\n",
       "      <td>4.0</td>\n",
       "    </tr>\n",
       "  </tbody>\n",
       "</table>\n",
       "</div>"
      ],
      "text/plain": [
       "   O2(t-1)  CAR_dic(t-1)    Si(t-1)  N_Nit(t-1)  PO4(t-1)  N_Amm(t-1)  \\\n",
       "1  359.375   3926.666667   2.607143    4.000000  3.096774   12.580645   \n",
       "2  409.375   3947.500000  36.071429   26.928571  2.870968   15.580645   \n",
       "3  406.250   4033.333333   0.000000   33.357143  1.709677    7.290323   \n",
       "4  315.625   3987.500000   8.571429   33.142857  0.903226    6.193548   \n",
       "5  293.750   3756.666667  27.607143   36.000000  2.258065    7.870968   \n",
       "\n",
       "   delT(t-1)    U(t-1)  AirT(t-1)  Prec(t-1)    swr(t-1)  inflow(t-1)  \\\n",
       "1   0.042543  3.498471   6.930845     0.0000  137.660544     1.993531   \n",
       "2  -3.136722  2.427142   4.090003     0.9287   92.889750     5.643856   \n",
       "3   0.000000  4.233445   3.030419     0.9188  171.966957     4.467845   \n",
       "4   5.595238  4.846104  13.173339    10.0168   95.453083     3.157959   \n",
       "5   9.600816  2.044966  15.322085     0.0248  328.231371    54.337741   \n",
       "\n",
       "   outflow(t-1)  Ice_d(t-1)  days_from_iceoff(t-1)    O2(t)   CAR_dic(t)  \\\n",
       "1      1.516194   98.958333                  197.0  409.375  3947.500000   \n",
       "2      4.741300   78.000000                  -20.0  406.250  4033.333333   \n",
       "3      3.687625   78.000000                    8.0  315.625  3987.500000   \n",
       "4      4.989815   78.000000                   37.0  293.750  3756.666667   \n",
       "5     49.435608   78.000000                   65.0  268.750  3623.333333   \n",
       "\n",
       "       Si(t)   N_Nit(t)    PO4(t)   N_Amm(t)    delT(t)      U(t)    AirT(t)  \\\n",
       "1  36.071429  26.928571  2.870968  15.580645  -3.136722  2.427142   4.090003   \n",
       "2   0.000000  33.357143  1.709677   7.290323   0.000000  4.233445   3.030419   \n",
       "3   8.571429  33.142857  0.903226   6.193548   5.595238  4.846104  13.173339   \n",
       "4  27.607143  36.000000  2.258065   7.870968   9.600816  2.044966  15.322085   \n",
       "5  36.071429  30.571429  1.580645   0.000000  15.174671  3.087298  21.475004   \n",
       "\n",
       "   Prec(t)      swr(t)  inflow(t)  outflow(t)  Ice_d(t)  days_from_iceoff(t)  \\\n",
       "1   0.9287   92.889750   5.643856    4.741300      78.0                -20.0   \n",
       "2   0.9188  171.966957   4.467845    3.687625      78.0                  8.0   \n",
       "3  10.0168   95.453083   3.157959    4.989815      78.0                 37.0   \n",
       "4   0.0248  328.231371  54.337741   49.435608      78.0                 65.0   \n",
       "5   0.0204  318.036416  20.327559   25.470301      78.0                 92.0   \n",
       "\n",
       "   Chl(t)  \n",
       "1     2.9  \n",
       "2    10.1  \n",
       "3     2.5  \n",
       "4     3.1  \n",
       "5     4.0  "
      ]
     },
     "execution_count": 54,
     "metadata": {},
     "output_type": "execute_result"
    }
   ],
   "source": [
    "reframed.head()"
   ]
  },
  {
   "cell_type": "code",
   "execution_count": 67,
   "id": "completed-environment",
   "metadata": {
    "scrolled": false
   },
   "outputs": [
    {
     "name": "stdout",
     "output_type": "stream",
     "text": [
      "(66, 2, 15) (66,) (42, 2, 15) (42,)\n",
      "number of input timesteps: 2\n",
      "number of features: 15\n",
      "number of samples: 66\n",
      "WARNING:tensorflow:5 out of the last 19 calls to <function Model.make_predict_function.<locals>.predict_function at 0x000001C7B3031940> triggered tf.function retracing. Tracing is expensive and the excessive number of tracings could be due to (1) creating @tf.function repeatedly in a loop, (2) passing tensors with different shapes, (3) passing Python objects instead of tensors. For (1), please define your @tf.function outside of the loop. For (2), @tf.function has experimental_relax_shapes=True option that relaxes argument shapes that can avoid unnecessary retracing. For (3), please refer to https://www.tensorflow.org/guide/function#controlling_retracing and https://www.tensorflow.org/api_docs/python/tf/function for  more details.\n",
      "WARNING:tensorflow:6 out of the last 21 calls to <function Model.make_predict_function.<locals>.predict_function at 0x000001C7AB1A98B0> triggered tf.function retracing. Tracing is expensive and the excessive number of tracings could be due to (1) creating @tf.function repeatedly in a loop, (2) passing tensors with different shapes, (3) passing Python objects instead of tensors. For (1), please define your @tf.function outside of the loop. For (2), @tf.function has experimental_relax_shapes=True option that relaxes argument shapes that can avoid unnecessary retracing. For (3), please refer to https://www.tensorflow.org/guide/function#controlling_retracing and https://www.tensorflow.org/api_docs/python/tf/function for  more details.\n",
      "Test RMSE: 11.39\n",
      "Test R2: -0.48\n",
      "Training dataset RMSE 5.22 (+/- 1.83)\n",
      "Training dataset R2 -0.02 (+/- 0.23)\n",
      "Model takes 1 min to run\n"
     ]
    },
    {
     "data": {
      "image/png": "[encoded data removed]",
      "text/plain": [
       "<Figure size 1296x432 with 2 Axes>"
      ]
     },
     "metadata": {
      "needs_background": "light"
     },
     "output_type": "display_data"
    }
   ],
   "source": [
    "start_time = time.time()\n",
    "Chl_model,RMSE,R2,figure = predict_lstm(all_df,values,features,target,test_time,hyperparameters,ylim)\n",
    "# 5-fold cross validation was used to estimate the model performance\n",
    "print(\"Training dataset RMSE %.2f (+/- %.2f)\" % (np.mean(RMSE), np.std(RMSE)))\n",
    "print(\"Training dataset R2 %.2f (+/- %.2f)\" % (np.mean(R2), np.std(R2)))\n",
    "print('Model takes '+str(round((time.time()-start_time)/60))+' min to run')\n",
    "os.chdir('..\\\\LSTM')\n",
    "#figure.savefig('ME_LSTM_Chl.png',dpi = 500)"
   ]
  },
  {
   "cell_type": "code",
   "execution_count": 68,
   "id": "legendary-fairy",
   "metadata": {},
   "outputs": [
    {
     "name": "stderr",
     "output_type": "stream",
     "text": [
      "\n",
      "A value is trying to be set on a copy of a slice from a DataFrame\n",
      "\n",
      "See the caveats in the documentation: https://pandas.pydata.org/pandas-docs/stable/user_guide/indexing.html#returning-a-view-versus-a-copy\n"
     ]
    }
   ],
   "source": [
    "# use the trained model to interplate the whole timeseries\n",
    "Nut_memory = all_df.copy()\n",
    "Nut_memory[target] = np.nan\n",
    "predict_ts(Nut_memory,target,Chl_model,values,hyperparameters)\n",
    "Nut_memory.to_csv('ME_LSTM predicted Chl.csv',index = False)"
   ]
  },
  {
   "cell_type": "code",
   "execution_count": null,
   "id": "furnished-strand",
   "metadata": {},
   "outputs": [],
   "source": []
  }
 ],
 "metadata": {
  "kernelspec": {
   "display_name": "Python 3",
   "language": "python",
   "name": "python3"
  },
  "language_info": {
   "codemirror_mode": {
    "name": "ipython",
    "version": 3
   },
   "file_extension": ".py",
   "mimetype": "text/x-python",
   "name": "python",
   "nbconvert_exporter": "python",
   "pygments_lexer": "ipython3",
   "version": "3.8.7"
  }
 },
 "nbformat": 4,
 "nbformat_minor": 5
}
